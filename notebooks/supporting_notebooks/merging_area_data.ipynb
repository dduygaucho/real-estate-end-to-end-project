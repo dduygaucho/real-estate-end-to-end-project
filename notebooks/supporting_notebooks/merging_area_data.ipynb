{
 "cells": [
  {
   "cell_type": "markdown",
   "metadata": {},
   "source": [
    "# Notes\n",
    "This notebook is a playground to help us write code in the main folders. This notebook aims at finding the area for each property, which is something that the data from domain didn't cover. We notice that the area is a very useful feature in determining the rental price, yet due to the time limits, we couldn't integrate this in our pipeline \n",
    "\n",
    "We hope to finish this in the near future as this is included in our future plan proposal"
   ]
  },
  {
   "cell_type": "code",
   "execution_count": 1,
   "metadata": {},
   "outputs": [
    {
     "name": "stdout",
     "output_type": "stream",
     "text": [
      "PyTables is not installed. No support for HDF output.\n",
      "SQLalchemy is not installed. No support for SQL output.\n"
     ]
    },
    {
     "name": "stderr",
     "output_type": "stream",
     "text": [
      "your 131072x1 screen size is bogus. expect trouble\n",
      "23/09/20 14:56:33 WARN Utils: Your hostname, clarissaslaptop resolves to a loopback address: 127.0.1.1; using 172.19.129.177 instead (on interface eth0)\n",
      "23/09/20 14:56:33 WARN Utils: Set SPARK_LOCAL_IP if you need to bind to another address\n",
      "Setting default log level to \"WARN\".\n",
      "To adjust logging level use sc.setLogLevel(newLevel). For SparkR, use setLogLevel(newLevel).\n",
      "23/09/20 14:56:34 WARN NativeCodeLoader: Unable to load native-hadoop library for your platform... using builtin-java classes where applicable\n"
     ]
    }
   ],
   "source": [
    "import pandas as pd\n",
    "import pandas as pd\n",
    "import pandas as pd\n",
    "import numpy as np\n",
    "import geopandas as gpd\n",
    "from pyspark.sql import SparkSession\n",
    "from pyspark.sql import functions as F\n",
    "import glob\n",
    "from pyspark.sql.types import StructType,StructField, StringType, IntegerType \n",
    "from pyspark.sql.types import  DoubleType\n",
    "import  re\n",
    "from simpledbf import Dbf5\n",
    "\n",
    "# Create a spark session (which will run spark jobs)\n",
    "spark = (\n",
    "    SparkSession.builder.appName(\"MAST30034 Tutorial 1\")\n",
    "    .config(\"spark.sql.repl.eagerEval.enabled\", True) \n",
    "    .config(\"spark.sql.parquet.cacheMetadata\", \"true\")\n",
    "    .config(\"spark.sql.session.timeZone\", \"Etc/UTC\")\n",
    "    .config(\"spark.executor.memory\", \"10g\") \n",
    "    .config(\"spark.driver.memory\", \"10g\") \n",
    "    .config(\"spark.executor.extraJavaOptions\", \"-XX:MaxGCMinorPauseMillis=500\")\n",
    "    .getOrCreate()\n",
    ")"
   ]
  },
  {
   "cell_type": "code",
   "execution_count": 2,
   "metadata": {},
   "outputs": [],
   "source": [
    "# this data contains the property polygons for properties in victoria, along with their property f identifier which we will use to link to the address information\n",
    "sf = gpd.read_file(\"../data/raw/property_polygon_p_detail/ll_gda2020/esrishape/whole_of_dataset/victoria/VMPROP/V_PROPERTY_MP.shp\", engine='pyogrio')[['PROP_PFI', 'geometry']]\n",
    "# using the simple cylindrical equal area projection for a more accurate claculation of area\n",
    "\n",
    "\n"
   ]
  },
  {
   "cell_type": "code",
   "execution_count": null,
   "metadata": {},
   "outputs": [],
   "source": [
    "sf.crs = 'epsg:6933'\n",
    "geod = sf.crs.get_geod()"
   ]
  },
  {
   "cell_type": "code",
   "execution_count": null,
   "metadata": {},
   "outputs": [],
   "source": [
    "# computing area \n",
    "sf[\"area\"] = sf.geometry.apply(lambda g: abs(geod.geometry_area_perimeter(g)[0]))\n",
    "sf = sf.drop(['geometry'], axis=1)\n",
    "# saving for later use \n",
    "sf.to_csv(\"../data/landing/property_land_area.csv\")"
   ]
  },
  {
   "cell_type": "code",
   "execution_count": 2,
   "metadata": {},
   "outputs": [],
   "source": [
    "# this file contains the address data for all properties in victoria, along with pfi. we read the dbf file because the shapefile data is not needed and too large\n",
    "dbf = Dbf5('../data/raw/address/ll_gda2020/esrishape/whole_of_dataset/victoria/VMADD/ADDRESS_MAIN.dbf', codec='utf-8')\n",
    "dbf.to_csv('../data/landing/addresses.csv')"
   ]
  },
  {
   "cell_type": "code",
   "execution_count": 5,
   "metadata": {},
   "outputs": [],
   "source": [
    "# joining area data with address\n",
    "addresses = spark.read.csv('../data/landing/addresses.csv', header=True)[['PR_PFI','FLOOR_NO_1', 'BUNIT_ID1', 'HSE_NUM1', 'ROAD_NAME', 'ROAD_TYPE', 'LOCALITY', 'STATE', 'POSTCODE']]\n",
    "land_area = spark.read.csv(\"../data/landing/property_land_area.csv\", header=True)[['PROP_PFI', 'area']]\n",
    "addresses = addresses.withColumnRenamed('FLOOR_NO_1', 'APT_LVL')\n",
    "addresses = addresses.withColumnRenamed('BUNIT_ID1', 'APT_NUM')\n",
    "addresses = addresses.withColumnRenamed('HSE_NUM1', 'BLDG_NUM')\n",
    "land_area = land_area.withColumnRenamed('PROP_PFI', 'PR_PFI')\n",
    "land_area = land_area.drop_duplicates()\n",
    "addresses = addresses.drop_duplicates(['APT_NUM', 'BLDG_NUM', 'ROAD_NAME', 'ROAD_TYPE', 'LOCALITY','POSTCODE'])\n",
    "\n",
    "# ensuring all strings are lower case\n",
    "addresses=addresses.withColumn('ROAD_NAME', F.lower(F.col('ROAD_NAME')))\n",
    "addresses=addresses.withColumn('ROAD_TYPE', F.lower(F.col('ROAD_TYPE')))\n",
    "addresses=addresses.withColumn('LOCALITY', F.lower(F.col('LOCALITY')))\n",
    "\n",
    "# casting apartment number as int because we will be using them to be estimating missing apartment levels \n",
    "addresses=addresses.withColumn('APT_LVL', F.col('APT_LVL').cast('int'))\n",
    "addresses=addresses.withColumn('APT_NUM', F.col('APT_NUM').cast('int'))\n",
    "\n",
    "# joining datasets \n",
    "property_area = addresses.join(land_area, how = 'inner', on = 'PR_PFI')\n",
    "\n",
    "# separating into houses and apartments so we can calculate apt level for apartments only \n",
    "apts = property_area.filter(F.col('APT_NUM').isNotNull() == True)\n",
    "houses = property_area.filter(F.col('APT_NUM').isNull() == True)\n",
    "houses = houses.withColumn('num_apt_on_floor', F.lit(None))\n",
    "houses = houses.withColumn('apt_area', F.lit(None))\n",
    "\n",
    "# when apartments are higher than 1 storey, they generally have the level = first number \n",
    "apts=apts.withColumn('APT_LVL', F.when(F.col('APT_LVL').isNotNull() == True, F.col('APT_LVL'))\\\n",
    "                                        .otherwise(F.floor(F.col('APT_NUM')/100)))\n",
    "\n",
    "# finding the total number of apartments on a floor of a building\n",
    "level_grouped = apts.groupby(['APT_LVL',  'BLDG_NUM', 'ROAD_NAME', 'ROAD_TYPE', 'LOCALITY', 'STATE', 'POSTCODE'])\\\n",
    "        .agg(F.median('area').alias('floor_area'),\n",
    "             F.count('area').alias(\"num_apt_on_floor\"))\n",
    "# approximating apartment area by dividing land area by number of apartments on that floor \n",
    "level_grouped = level_grouped.withColumn(\"apt_area\", F.col('floor_area')/F.col('num_apt_on_floor'))\n",
    "# joining to apartment data \n",
    "apts = apts.join(level_grouped, how='left', on = ['APT_LVL',  'BLDG_NUM', 'ROAD_NAME', 'ROAD_TYPE', 'LOCALITY', 'STATE', 'POSTCODE'])\n",
    "apts = apts.drop('floor_area')#, 'area')\n",
    "# combining apartment and house data \n",
    "all_properties = apts.unionByName(houses)"
   ]
  },
  {
   "cell_type": "code",
   "execution_count": 6,
   "metadata": {},
   "outputs": [
    {
     "name": "stderr",
     "output_type": "stream",
     "text": [
      "                                                                                \r"
     ]
    },
    {
     "data": {
      "text/html": [
       "<table border='1'>\n",
       "<tr><th>APT_LVL</th><th>BLDG_NUM</th><th>ROAD_NAME</th><th>ROAD_TYPE</th><th>LOCALITY</th><th>STATE</th><th>POSTCODE</th><th>PR_PFI</th><th>APT_NUM</th><th>area</th><th>num_apt_on_floor</th><th>apt_area</th></tr>\n",
       "<tr><td>0</td><td>1241</td><td>doveton</td><td>street</td><td>invermay park</td><td>VIC</td><td>3350</td><td>100030214</td><td>2</td><td>349.1899076993577</td><td>2</td><td>164.32998860476073</td></tr>\n",
       "<tr><td>0</td><td>1241</td><td>doveton</td><td>street</td><td>invermay park</td><td>VIC</td><td>3350</td><td>100030206</td><td>1</td><td>308.1300467196852</td><td>2</td><td>164.32998860476073</td></tr>\n",
       "<tr><td>0</td><td>17</td><td>mouritz</td><td>street</td><td>warragul</td><td>VIC</td><td>3820</td><td>100013663</td><td>1</td><td>273.9385187383741</td><td>2</td><td>136.05079801561078</td></tr>\n",
       "<tr><td>0</td><td>17</td><td>mouritz</td><td>street</td><td>warragul</td><td>VIC</td><td>3820</td><td>100013671</td><td>2</td><td>270.264673324069</td><td>2</td><td>136.05079801561078</td></tr>\n",
       "<tr><td>0</td><td>21</td><td>pallett</td><td>street</td><td>golden square</td><td>VIC</td><td>3555</td><td>100073457</td><td>1</td><td>489.58699106797576</td><td>2</td><td>1227.4609977206856</td></tr>\n",
       "<tr><td>0</td><td>25</td><td>arblaster</td><td>street</td><td>california gully</td><td>VIC</td><td>3556</td><td>100073954</td><td>1</td><td>273.48930666036904</td><td>4</td><td>68.6726030560676</td></tr>\n",
       "<tr><td>0</td><td>25</td><td>arblaster</td><td>street</td><td>california gully</td><td>VIC</td><td>3556</td><td>100073970</td><td>4</td><td>191.44723909022287</td><td>4</td><td>68.6726030560676</td></tr>\n",
       "<tr><td>0</td><td>4</td><td>moylan</td><td>street</td><td>bentleigh east</td><td>VIC</td><td>3165</td><td>10021</td><td>2</td><td>364.4177685556933</td><td>2</td><td>181.08997783786617</td></tr>\n",
       "<tr><td>0</td><td>5</td><td>cook</td><td>place</td><td>west wodonga</td><td>VIC</td><td>3690</td><td>100084244</td><td>1</td><td>243.97727836027843</td><td>12</td><td>19.419149878519722</td></tr>\n",
       "<tr><td>0</td><td>9</td><td>saunders</td><td>street</td><td>west bendigo</td><td>VIC</td><td>3550</td><td>100004610</td><td>1</td><td>422.2981316377409</td><td>4</td><td>101.12733876961283</td></tr>\n",
       "<tr><td>0</td><td>9</td><td>saunders</td><td>street</td><td>west bendigo</td><td>VIC</td><td>3550</td><td>100004602</td><td>2</td><td>411.34116699546576</td><td>4</td><td>101.12733876961283</td></tr>\n",
       "<tr><td>0</td><td>9</td><td>saunders</td><td>street</td><td>west bendigo</td><td>VIC</td><td>3550</td><td>100004618</td><td>3</td><td>392.92955984734</td><td>4</td><td>101.12733876961283</td></tr>\n",
       "<tr><td>0</td><td>9</td><td>saunders</td><td>street</td><td>west bendigo</td><td>VIC</td><td>3550</td><td>100004626</td><td>4</td><td>397.6775431614369</td><td>4</td><td>101.12733876961283</td></tr>\n",
       "<tr><td>0</td><td>97</td><td>beischer</td><td>street</td><td>east bendigo</td><td>VIC</td><td>3550</td><td>100056458</td><td>2</td><td>1124.117304848507</td><td>1</td><td>1124.117304848507</td></tr>\n",
       "<tr><td>0</td><td>1</td><td>maskell</td><td>lane</td><td>tatura</td><td>VIC</td><td>3616</td><td>100055376</td><td>1</td><td>4025.3124749709386</td><td>2</td><td>2285.7662799282116</td></tr>\n",
       "<tr><td>0</td><td>1</td><td>maskell</td><td>lane</td><td>tatura</td><td>VIC</td><td>3616</td><td>100055391</td><td>2</td><td>5117.752644741908</td><td>2</td><td>2285.7662799282116</td></tr>\n",
       "<tr><td>0</td><td>107</td><td>condon</td><td>street</td><td>kennington</td><td>VIC</td><td>3550</td><td>100062560</td><td>3</td><td>43.46397630497813</td><td>94</td><td>0.48021563925740723</td></tr>\n",
       "<tr><td>0</td><td>107</td><td>condon</td><td>street</td><td>kennington</td><td>VIC</td><td>3550</td><td>100062703</td><td>19</td><td>43.67484809923917</td><td>94</td><td>0.48021563925740723</td></tr>\n",
       "<tr><td>0</td><td>107</td><td>condon</td><td>street</td><td>kennington</td><td>VIC</td><td>3550</td><td>100062927</td><td>45</td><td>45.15773250721395</td><td>94</td><td>0.48021563925740723</td></tr>\n",
       "<tr><td>0</td><td>107</td><td>condon</td><td>street</td><td>kennington</td><td>VIC</td><td>3550</td><td>100062682</td><td>17</td><td>42.93745658732951</td><td>94</td><td>0.48021563925740723</td></tr>\n",
       "</table>\n"
      ],
      "text/plain": [
       "+-------+--------+---------+---------+----------------+-----+--------+---------+-------+------------------+----------------+-------------------+\n",
       "|APT_LVL|BLDG_NUM|ROAD_NAME|ROAD_TYPE|        LOCALITY|STATE|POSTCODE|   PR_PFI|APT_NUM|              area|num_apt_on_floor|           apt_area|\n",
       "+-------+--------+---------+---------+----------------+-----+--------+---------+-------+------------------+----------------+-------------------+\n",
       "|      0|    1241|  doveton|   street|   invermay park|  VIC|    3350|100030214|      2| 349.1899076993577|               2| 164.32998860476073|\n",
       "|      0|    1241|  doveton|   street|   invermay park|  VIC|    3350|100030206|      1| 308.1300467196852|               2| 164.32998860476073|\n",
       "|      0|      17|  mouritz|   street|        warragul|  VIC|    3820|100013663|      1| 273.9385187383741|               2| 136.05079801561078|\n",
       "|      0|      17|  mouritz|   street|        warragul|  VIC|    3820|100013671|      2|  270.264673324069|               2| 136.05079801561078|\n",
       "|      0|      21|  pallett|   street|   golden square|  VIC|    3555|100073457|      1|489.58699106797576|               2| 1227.4609977206856|\n",
       "|      0|      25|arblaster|   street|california gully|  VIC|    3556|100073954|      1|273.48930666036904|               4|   68.6726030560676|\n",
       "|      0|      25|arblaster|   street|california gully|  VIC|    3556|100073970|      4|191.44723909022287|               4|   68.6726030560676|\n",
       "|      0|       4|   moylan|   street|  bentleigh east|  VIC|    3165|    10021|      2| 364.4177685556933|               2| 181.08997783786617|\n",
       "|      0|       5|     cook|    place|    west wodonga|  VIC|    3690|100084244|      1|243.97727836027843|              12| 19.419149878519722|\n",
       "|      0|       9| saunders|   street|    west bendigo|  VIC|    3550|100004610|      1| 422.2981316377409|               4| 101.12733876961283|\n",
       "|      0|       9| saunders|   street|    west bendigo|  VIC|    3550|100004602|      2|411.34116699546576|               4| 101.12733876961283|\n",
       "|      0|       9| saunders|   street|    west bendigo|  VIC|    3550|100004618|      3|   392.92955984734|               4| 101.12733876961283|\n",
       "|      0|       9| saunders|   street|    west bendigo|  VIC|    3550|100004626|      4| 397.6775431614369|               4| 101.12733876961283|\n",
       "|      0|      97| beischer|   street|    east bendigo|  VIC|    3550|100056458|      2| 1124.117304848507|               1|  1124.117304848507|\n",
       "|      0|       1|  maskell|     lane|          tatura|  VIC|    3616|100055376|      1|4025.3124749709386|               2| 2285.7662799282116|\n",
       "|      0|       1|  maskell|     lane|          tatura|  VIC|    3616|100055391|      2| 5117.752644741908|               2| 2285.7662799282116|\n",
       "|      0|     107|   condon|   street|      kennington|  VIC|    3550|100062560|      3| 43.46397630497813|              94|0.48021563925740723|\n",
       "|      0|     107|   condon|   street|      kennington|  VIC|    3550|100062703|     19| 43.67484809923917|              94|0.48021563925740723|\n",
       "|      0|     107|   condon|   street|      kennington|  VIC|    3550|100062927|     45| 45.15773250721395|              94|0.48021563925740723|\n",
       "|      0|     107|   condon|   street|      kennington|  VIC|    3550|100062682|     17| 42.93745658732951|              94|0.48021563925740723|\n",
       "+-------+--------+---------+---------+----------------+-----+--------+---------+-------+------------------+----------------+-------------------+"
      ]
     },
     "execution_count": 6,
     "metadata": {},
     "output_type": "execute_result"
    }
   ],
   "source": [
    "apts.limit(20)"
   ]
  },
  {
   "cell_type": "code",
   "execution_count": 8,
   "metadata": {},
   "outputs": [
    {
     "name": "stderr",
     "output_type": "stream",
     "text": [
      "                                                                                \r"
     ]
    },
    {
     "data": {
      "text/html": [
       "<table border='1'>\n",
       "<tr><th>APT_LVL</th><th>BLDG_NUM</th><th>ROAD_NAME</th><th>ROAD_TYPE</th><th>LOCALITY</th><th>STATE</th><th>POSTCODE</th><th>PR_PFI</th><th>APT_NUM</th><th>area</th><th>num_apt_on_floor</th><th>apt_area</th></tr>\n",
       "<tr><td>22</td><td>101</td><td>therry</td><td>street</td><td>melbourne</td><td>VIC</td><td>3000</td><td>454279239</td><td>2215</td><td>3160.824837445194</td><td>15</td><td>210.7216558296796</td></tr>\n",
       "<tr><td>22</td><td>101</td><td>therry</td><td>street</td><td>melbourne</td><td>VIC</td><td>3000</td><td>454279233</td><td>2213</td><td>3160.824837445194</td><td>15</td><td>210.7216558296796</td></tr>\n",
       "<tr><td>38</td><td>101</td><td>therry</td><td>street</td><td>melbourne</td><td>VIC</td><td>3000</td><td>454280184</td><td>3801</td><td>3160.824837445194</td><td>14</td><td>225.77320267465672</td></tr>\n",
       "<tr><td>24</td><td>101</td><td>therry</td><td>street</td><td>melbourne</td><td>VIC</td><td>3000</td><td>454279993</td><td>2406</td><td>3160.824837445194</td><td>15</td><td>210.7216558296796</td></tr>\n",
       "<tr><td>24</td><td>101</td><td>therry</td><td>street</td><td>melbourne</td><td>VIC</td><td>3000</td><td>454279999</td><td>2414</td><td>3160.824837445194</td><td>15</td><td>210.7216558296796</td></tr>\n",
       "<tr><td>37</td><td>101</td><td>therry</td><td>street</td><td>melbourne</td><td>VIC</td><td>3000</td><td>454279641</td><td>3706</td><td>3160.824837445194</td><td>14</td><td>225.77320267465672</td></tr>\n",
       "<tr><td>16</td><td>101</td><td>therry</td><td>street</td><td>melbourne</td><td>VIC</td><td>3000</td><td>454279056</td><td>1612</td><td>3160.824837445194</td><td>15</td><td>210.7216558296796</td></tr>\n",
       "<tr><td>35</td><td>101</td><td>therry</td><td>street</td><td>melbourne</td><td>VIC</td><td>3000</td><td>454279581</td><td>3503</td><td>3160.824837445194</td><td>14</td><td>225.77320267465672</td></tr>\n",
       "<tr><td>7</td><td>101</td><td>therry</td><td>street</td><td>melbourne</td><td>VIC</td><td>3000</td><td>454280739</td><td>713</td><td>3160.824837445194</td><td>16</td><td>197.55155234032463</td></tr>\n",
       "<tr><td>34</td><td>101</td><td>therry</td><td>street</td><td>melbourne</td><td>VIC</td><td>3000</td><td>454279560</td><td>3407</td><td>3160.824837445194</td><td>14</td><td>225.77320267465672</td></tr>\n",
       "<tr><td>31</td><td>101</td><td>therry</td><td>street</td><td>melbourne</td><td>VIC</td><td>3000</td><td>454279476</td><td>3106</td><td>3160.824837445194</td><td>14</td><td>225.77320267465672</td></tr>\n",
       "<tr><td>15</td><td>101</td><td>therry</td><td>street</td><td>melbourne</td><td>VIC</td><td>3000</td><td>454279882</td><td>1514</td><td>3160.824837445194</td><td>15</td><td>210.7216558296796</td></tr>\n",
       "<tr><td>10</td><td>101</td><td>therry</td><td>street</td><td>melbourne</td><td>VIC</td><td>3000</td><td>454280391</td><td>1012</td><td>3160.824837445194</td><td>16</td><td>197.55155234032463</td></tr>\n",
       "<tr><td>20</td><td>101</td><td>therry</td><td>street</td><td>melbourne</td><td>VIC</td><td>3000</td><td>454279161</td><td>2006</td><td>3160.824837445194</td><td>15</td><td>210.7216558296796</td></tr>\n",
       "<tr><td>30</td><td>101</td><td>therry</td><td>street</td><td>melbourne</td><td>VIC</td><td>3000</td><td>454279458</td><td>3011</td><td>3160.824837445194</td><td>14</td><td>225.77320267465672</td></tr>\n",
       "<tr><td>18</td><td>101</td><td>therry</td><td>street</td><td>melbourne</td><td>VIC</td><td>3000</td><td>454279909</td><td>1801</td><td>3160.824837445194</td><td>15</td><td>210.7216558296796</td></tr>\n",
       "<tr><td>18</td><td>101</td><td>therry</td><td>street</td><td>melbourne</td><td>VIC</td><td>3000</td><td>454279101</td><td>1805</td><td>3160.824837445194</td><td>15</td><td>210.7216558296796</td></tr>\n",
       "<tr><td>28</td><td>101</td><td>therry</td><td>street</td><td>melbourne</td><td>VIC</td><td>3000</td><td>454279404</td><td>2812</td><td>3160.824837445194</td><td>14</td><td>225.77320267465672</td></tr>\n",
       "<tr><td>19</td><td>101</td><td>therry</td><td>street</td><td>melbourne</td><td>VIC</td><td>3000</td><td>454279125</td><td>1902</td><td>3160.824837445194</td><td>15</td><td>210.7216558296796</td></tr>\n",
       "<tr><td>6</td><td>101</td><td>therry</td><td>street</td><td>melbourne</td><td>VIC</td><td>3000</td><td>454280709</td><td>614</td><td>3160.824837445194</td><td>16</td><td>197.55155234032463</td></tr>\n",
       "</table>\n"
      ],
      "text/plain": [
       "+-------+--------+---------+---------+---------+-----+--------+---------+-------+-----------------+----------------+------------------+\n",
       "|APT_LVL|BLDG_NUM|ROAD_NAME|ROAD_TYPE| LOCALITY|STATE|POSTCODE|   PR_PFI|APT_NUM|             area|num_apt_on_floor|          apt_area|\n",
       "+-------+--------+---------+---------+---------+-----+--------+---------+-------+-----------------+----------------+------------------+\n",
       "|     22|     101|   therry|   street|melbourne|  VIC|    3000|454279239|   2215|3160.824837445194|              15| 210.7216558296796|\n",
       "|     22|     101|   therry|   street|melbourne|  VIC|    3000|454279233|   2213|3160.824837445194|              15| 210.7216558296796|\n",
       "|     38|     101|   therry|   street|melbourne|  VIC|    3000|454280184|   3801|3160.824837445194|              14|225.77320267465672|\n",
       "|     24|     101|   therry|   street|melbourne|  VIC|    3000|454279993|   2406|3160.824837445194|              15| 210.7216558296796|\n",
       "|     24|     101|   therry|   street|melbourne|  VIC|    3000|454279999|   2414|3160.824837445194|              15| 210.7216558296796|\n",
       "|     37|     101|   therry|   street|melbourne|  VIC|    3000|454279641|   3706|3160.824837445194|              14|225.77320267465672|\n",
       "|     16|     101|   therry|   street|melbourne|  VIC|    3000|454279056|   1612|3160.824837445194|              15| 210.7216558296796|\n",
       "|     35|     101|   therry|   street|melbourne|  VIC|    3000|454279581|   3503|3160.824837445194|              14|225.77320267465672|\n",
       "|      7|     101|   therry|   street|melbourne|  VIC|    3000|454280739|    713|3160.824837445194|              16|197.55155234032463|\n",
       "|     34|     101|   therry|   street|melbourne|  VIC|    3000|454279560|   3407|3160.824837445194|              14|225.77320267465672|\n",
       "|     31|     101|   therry|   street|melbourne|  VIC|    3000|454279476|   3106|3160.824837445194|              14|225.77320267465672|\n",
       "|     15|     101|   therry|   street|melbourne|  VIC|    3000|454279882|   1514|3160.824837445194|              15| 210.7216558296796|\n",
       "|     10|     101|   therry|   street|melbourne|  VIC|    3000|454280391|   1012|3160.824837445194|              16|197.55155234032463|\n",
       "|     20|     101|   therry|   street|melbourne|  VIC|    3000|454279161|   2006|3160.824837445194|              15| 210.7216558296796|\n",
       "|     30|     101|   therry|   street|melbourne|  VIC|    3000|454279458|   3011|3160.824837445194|              14|225.77320267465672|\n",
       "|     18|     101|   therry|   street|melbourne|  VIC|    3000|454279909|   1801|3160.824837445194|              15| 210.7216558296796|\n",
       "|     18|     101|   therry|   street|melbourne|  VIC|    3000|454279101|   1805|3160.824837445194|              15| 210.7216558296796|\n",
       "|     28|     101|   therry|   street|melbourne|  VIC|    3000|454279404|   2812|3160.824837445194|              14|225.77320267465672|\n",
       "|     19|     101|   therry|   street|melbourne|  VIC|    3000|454279125|   1902|3160.824837445194|              15| 210.7216558296796|\n",
       "|      6|     101|   therry|   street|melbourne|  VIC|    3000|454280709|    614|3160.824837445194|              16|197.55155234032463|\n",
       "+-------+--------+---------+---------+---------+-----+--------+---------+-------+-----------------+----------------+------------------+"
      ]
     },
     "execution_count": 8,
     "metadata": {},
     "output_type": "execute_result"
    }
   ],
   "source": [
    "all_properties.filter((F.col('ROAD_NAME') == 'therry')&\\\n",
    "                       (F.col('BLDG_NUM') == '101')).limit(20)"
   ]
  },
  {
   "cell_type": "code",
   "execution_count": null,
   "metadata": {},
   "outputs": [],
   "source": []
  },
  {
   "cell_type": "code",
   "execution_count": 3,
   "metadata": {},
   "outputs": [
    {
     "name": "stderr",
     "output_type": "stream",
     "text": [
      "                                                                                \r"
     ]
    }
   ],
   "source": [
    "all_properties.repartition(\"POSTCODE\")\\\n",
    "        .write\\\n",
    "        .option(\"header\",True) \\\n",
    "        .partitionBy(\"POSTCODE\") \\\n",
    "        .mode(\"overwrite\") \\\n",
    "        .csv(\"../data/landing/area_by_locality\")"
   ]
  },
  {
   "cell_type": "code",
   "execution_count": 3,
   "metadata": {},
   "outputs": [
    {
     "name": "stderr",
     "output_type": "stream",
     "text": [
      "                                                                                \r"
     ]
    }
   ],
   "source": [
    "# this is the data we scraped from the domain website\n",
    "domain_data = pd.read_csv(\"../data/curated/real_estate_2023.csv\")[['id', \"address\"]]\n",
    "\n",
    "\n",
    "# the name column includes address which we will try to extract street number, street name, street type, lcoality and postcode from later on \n",
    "domain_data = domain_data[domain_data['address'].isna() == False]\n",
    "domain_data['address'] = domain_data['address'].str.lower()\n",
    "domain_data['address'] = domain_data['address'].str.replace(\",\", \" \")\n",
    "domain_data['address'] = domain_data['address'].str.replace(\".\", \" \")\n",
    "domain_data['address'] = domain_data['address'].str.replace(\"'\", \"\")\n",
    "\n",
    "# dictionary that returns the proper road type when given the abbreviated version \n",
    "road_type_dict = {'':None}\n",
    "# retrieving road types from the addresses data and adding to dictionary\n",
    "road_types = addresses.filter(F.col('ROAD_TYPE').isNotNull() == True).select('ROAD_TYPE').distinct().toPandas()['ROAD_TYPE'].to_list()\n",
    "for i in road_types:\n",
    "    road_type_dict[i] = i\n",
    "\n",
    "# list of most common abbreviations, and their corresponding proper names \n",
    "abbreviations = ['st',  'av', 'ave', 'rd', 'hwy', \n",
    "                 'pd', 'pde', 'blvd', 'bvd', \n",
    "                 'ln', 'gr', 'dr', 'crs', 'cres', 'cr',\n",
    "                 'cl', 'ct', 'crt', 'pl', 'esp', 'espl', 'cct' ]\n",
    "full_road_type = ['street',  'avenue', 'avenue', 'road', 'highway',\n",
    "                 'parade', 'parade', 'boulevard', 'boulevard',\n",
    "                 'lane', 'grove', 'drive',  'crescent', 'crescent', 'crescent',\n",
    "                 'close', 'court', 'court', 'place', 'esplanade', 'esplanade', 'circuit']\n",
    "for i in range(len(abbreviations)):\n",
    "    road_type_dict[abbreviations[i]] = full_road_type[i]\n",
    "\n",
    "# list of possible terms that property road types are listed as  \n",
    "road_types = road_types + abbreviations  \n",
    "\n",
    "# extracting the street number, postcodes and the words between\n",
    "num_words_postcode = domain_data['address'].str.extract(r'(\\d+\\-?[ab]?\\/?\\d*\\-?\\d*) (\\D*) (?:vic)? (3\\d{3})')\n",
    "num_words_postcode = num_words_postcode.rename(columns={0:'number', 1:'street_suburb', 2:'POSTCODE'}).reset_index(drop=True)\n",
    "\n",
    "# initialising locality\n",
    "num_words_postcode['LOCALITY'] = pd.Series(None, range(len(num_words_postcode)))\n",
    "\n",
    "# list of all localities in victoria, extracted from address data, with the length of names calculated \n",
    "localities = addresses.filter(F.col('LOCALITY').isNotNull() == True).select('LOCALITY').distinct().toPandas()\n",
    "localities['name_len'] = localities['LOCALITY'].str.len()\n",
    "\n",
    "# sorting so that locality names which include other locality names (eg. north warrandyte vs warrandyte) are identified first \n",
    "localities = localities.sort_values(by = 'name_len', ascending=False).reset_index(drop=True)\n",
    "\n",
    "# for entries without a locality identified, try to see if it is located in name \n",
    "# we check whether the last letters equal the locality name because some locality names are also road names (eg. blackburn vs blackburn rd)\n",
    "for i in range(len(localities)):\n",
    "    name_len = localities.loc[i,'name_len']\n",
    "    locality = localities.loc[i,'LOCALITY']\n",
    "    num_words_postcode['LOCALITY'] = num_words_postcode['LOCALITY'].mask((num_words_postcode['LOCALITY'].isna() == True) & \n",
    "                                                         ((num_words_postcode['street_suburb'].str[-name_len:]) == locality), locality)\n",
    "# joining locality to domain data so we can drop invalid entries \n",
    "domain_data = pd.concat([domain_data,num_words_postcode], axis = 1)\n",
    "domain_data = domain_data[domain_data['LOCALITY'].isna() == False].reset_index(drop=True)\n",
    "\n",
    "#calculating locality name length which we will be using again. instead of joining because this is likely faster \n",
    "domain_data['name_len'] = domain_data['LOCALITY'].str.len()\n",
    "\n",
    "# street name and type contained in this column\n",
    "domain_data['street'] = pd.Series([x[:-y] for x, y in zip(domain_data['street_suburb'], domain_data['name_len'])])\n",
    "\n",
    "# finding road type by checking if valid road types are contained in the string \n",
    "domain_data['ROAD_TYPE'] = pd.Series(None, range(len(domain_data)))\n",
    "for i in road_types:\n",
    "    domain_data['ROAD_TYPE'] = domain_data['ROAD_TYPE'].mask(((domain_data['ROAD_TYPE'].isna() == True) & \n",
    "                                                         (domain_data['street'].str.contains(i))), i)\n",
    "domain_data = domain_data[domain_data['ROAD_TYPE'].isna() == False].reset_index(drop=True)\n",
    "\n",
    "# finding road name (the test before road type)\n",
    "domain_data['ROAD_NAME'] = pd.Series([re.findall('(\\D*) ' + str(y), x) for x, y in zip(domain_data['street'], domain_data['ROAD_TYPE'])])\n",
    "domain_data['ROAD_NAME'] = domain_data['ROAD_NAME'].str[0]\n",
    "domain_data = domain_data[domain_data['ROAD_NAME'].isna() == False].reset_index(drop=True)\n",
    "\n",
    "# replacing abbreviated road types with proper term \n",
    "domain_data['ROAD_TYPE'] = domain_data['ROAD_TYPE'].apply(lambda x: road_type_dict[x])\n",
    "\n",
    "# finding apartment and building number (since the format is generally apt_number/building_number)\n",
    "domain_data['number'] = domain_data['number'].str.split('/')\n",
    "domain_data['BLDG_NUM'] = domain_data['number'].str[-1].str.extract(r'(\\d+)')\n",
    "domain_data['APT_NUM'] = np.where(domain_data['number'].str.len() == 2, domain_data['number'].str[0], None)\n",
    "domain_data = domain_data[domain_data['BLDG_NUM'].isna() == False].reset_index(drop=True)"
   ]
  },
  {
   "cell_type": "code",
   "execution_count": 4,
   "metadata": {},
   "outputs": [],
   "source": [
    "#getting list of postcodes in domain listings. we will iterate over these when joining domain to area data as it is too expensive to match domain data to 3 mill+ addresses\n",
    "postcodes = domain_data['POSTCODE'].unique()"
   ]
  },
  {
   "cell_type": "code",
   "execution_count": 5,
   "metadata": {},
   "outputs": [
    {
     "name": "stderr",
     "output_type": "stream",
     "text": [
      "                                                                                \r"
     ]
    }
   ],
   "source": [
    "# saving by postcode\n",
    "domain_data = spark.createDataFrame(domain_data[['id', 'address', 'APT_NUM', 'BLDG_NUM', 'ROAD_NAME', 'ROAD_TYPE', 'LOCALITY', 'POSTCODE']])\\\n",
    "        .drop_duplicates(['APT_NUM','BLDG_NUM','ROAD_NAME','ROAD_TYPE','LOCALITY','POSTCODE'])\n",
    "domain_data.repartition(\"POSTCODE\")\\\n",
    "        .write\\\n",
    "        .option(\"header\",True) \\\n",
    "        .partitionBy(\"POSTCODE\") \\\n",
    "        .mode(\"overwrite\") \\\n",
    "        .csv(\"../data/landing/domain_data_by_postcode\")"
   ]
  },
  {
   "cell_type": "code",
   "execution_count": 6,
   "metadata": {},
   "outputs": [],
   "source": [
    "joined = []\n",
    "# for each postcode join domain data to area data by address \n",
    "for postcode in postcodes:\n",
    "    area_path = glob.glob(f'../data/landing/area_by_postcode/POSTCODE={postcode}/*.csv')[0]\n",
    "    temp_area = spark.read.csv(area_path, header=True)\n",
    "    domain_data_path = glob.glob(f'../data/landing/domain_data_by_postcode/POSTCODE={postcode}/*.csv')[0]\n",
    "    temp_domain_data = spark.read.csv(domain_data_path, header=True)\n",
    "\n",
    "    temp_domain_data = temp_domain_data.withColumn('POSTCODE', F.lit(postcode))\n",
    "\n",
    "    # joining data. the readon we did not join on a list of columns is because null values apt number will be considered not a match, when we want them to be (houses have null-values apt numbers )\n",
    "    cond = (((temp_domain_data['APT_NUM'] == temp_area['APT_NUM']) | \n",
    "        ((temp_domain_data['APT_NUM'].isNull() == True) & (temp_area['APT_NUM'].isNull() == True))) &\\\n",
    "        (temp_domain_data['BLDG_NUM'] == temp_area['BLDG_NUM']) &\\\n",
    "        (temp_domain_data['ROAD_NAME'] == temp_area['ROAD_NAME']) &\\\n",
    "        (temp_domain_data['ROAD_TYPE'] == temp_area['ROAD_TYPE']))\n",
    "    # joining data \n",
    "    joined.append(temp_domain_data.join(temp_area, how = 'left', on = cond).drop(temp_area['APT_NUM'],temp_area['BLDG_NUM'],temp_area['ROAD_NAME'],temp_area['ROAD_TYPE'],temp_area['LOCALITY']))"
   ]
  },
  {
   "cell_type": "code",
   "execution_count": 8,
   "metadata": {},
   "outputs": [
    {
     "name": "stderr",
     "output_type": "stream",
     "text": [
      "                                                                                \r"
     ]
    }
   ],
   "source": [
    "# writing into csv as it is too computationally expensive to union all dataframes \n",
    "matched = []\n",
    "unmatched = []\n",
    "for i in joined:\n",
    "    matched.append(i.filter(F.col('area').isNotNull() == True))\n",
    "    unmatched.append(i.filter(F.col('area').isNull() == True))\n",
    "n = 0\n",
    "for i in matched:\n",
    "    i.coalesce(1).write.save(path='../data/curated/matched_csv.csv', format='csv', mode='append', sep=',')\n",
    "    n = n + 1\n",
    "\n",
    "n = 0\n",
    "for i in unmatched:\n",
    "    i.coalesce(1).write.save(path='../data/curated/unmatched_csv.csv', format='csv', mode='append', sep=',')\n",
    "    n = n + 1"
   ]
  },
  {
   "cell_type": "code",
   "execution_count": 9,
   "metadata": {},
   "outputs": [],
   "source": [
    "# schema of matched/unmatched data \n",
    "columns = ['APT_NUM','BLDG_NUM','ROAD_NAME','ROAD_TYPE','id','address','st_number','SUBURB','POSTCODE','APT_LVL','LOCALITY','STATE','PR_PFI','area']\n",
    "schema = StructType([StructField('id', StringType(), True),\\\n",
    "                    StructField('address', StringType(), True),\\\n",
    "                    StructField('APT_NUM', IntegerType(), True),\\\n",
    "                    StructField('BLDG_NUM', StringType(), True),\\\n",
    "                    StructField('ROAD_NAME', StringType(), True),\\\n",
    "                    StructField('ROAD_TYPE', StringType(), True),\\\n",
    "                    StructField('LOCALITY', StringType(), True),\\\n",
    "                    StructField('POSTCODE', StringType(), True),\\\n",
    "                    StructField('APT_LVL', StringType(), True),\\\n",
    "                    StructField('STATE', StringType(), True),\\\n",
    "                    StructField('PR_PFI', StringType(), True),\\\n",
    "                    StructField('area', DoubleType(), True)])\n",
    "\n",
    "all_matched = spark.read.csv('../data/curated/matched_csv.csv', schema=schema)\n",
    "all_unmatched = spark.read.csv('../data/curated/unmatched_csv.csv', schema=schema).drop(\"STATE\", \"PR_PFI\", \"area\")"
   ]
  },
  {
   "cell_type": "code",
   "execution_count": 15,
   "metadata": {},
   "outputs": [
    {
     "name": "stderr",
     "output_type": "stream",
     "text": [
      "                                                                                \r"
     ]
    },
    {
     "data": {
      "text/html": [
       "<table border='1'>\n",
       "<tr><th>id</th><th>address</th><th>APT_NUM</th><th>BLDG_NUM</th><th>ROAD_NAME</th><th>ROAD_TYPE</th><th>LOCALITY</th><th>POSTCODE</th><th>APT_LVL</th><th>STATE</th><th>PR_PFI</th><th>area</th></tr>\n",
       "<tr><td>15</td><td>32/18 queen stree...</td><td>32</td><td>18</td><td>queen</td><td>street</td><td>melbourne</td><td>3000</td><td>0</td><td>VIC</td><td>52519796</td><td>12.05167394131422</td></tr>\n",
       "<tr><td>493</td><td>1/24-38 little bo...</td><td>1</td><td>24</td><td>little bourke</td><td>street</td><td>melbourne</td><td>3000</td><td>0</td><td>VIC</td><td>52788949</td><td>33.43753358763756</td></tr>\n",
       "<tr><td>59</td><td>2/6 anthony stree...</td><td>2</td><td>6</td><td>anthony</td><td>street</td><td>melbourne</td><td>3000</td><td>0</td><td>VIC</td><td>50078519</td><td>35.45786546121041</td></tr>\n",
       "<tr><td>524</td><td>l44/81 abeckett s...</td><td>44</td><td>81</td><td>abeckett</td><td>street</td><td>melbourne</td><td>3000</td><td>0</td><td>VIC</td><td>426603630</td><td>11.863994440324765</td></tr>\n",
       "<tr><td>538</td><td>7/9-13 anthony st...</td><td>7</td><td>9</td><td>anthony</td><td>street</td><td>melbourne</td><td>3000</td><td>0</td><td>VIC</td><td>203508942</td><td>327.94286047294736</td></tr>\n",
       "<tr><td>358</td><td>72/99 spring stre...</td><td>72</td><td>99</td><td>spring</td><td>street</td><td>melbourne</td><td>3000</td><td>0</td><td>VIC</td><td>203503928</td><td>62.60909214963515</td></tr>\n",
       "<tr><td>799</td><td>114/299 queen str...</td><td>114</td><td>299</td><td>queen</td><td>street</td><td>melbourne</td><td>3000</td><td>1</td><td>VIC</td><td>52559131</td><td>39.75980424561671</td></tr>\n",
       "<tr><td>796</td><td>310/11 rose lane ...</td><td>310</td><td>11</td><td>rose</td><td>lane</td><td>melbourne</td><td>3000</td><td>3</td><td>VIC</td><td>422616960</td><td>57.12811692707692</td></tr>\n",
       "<tr><td>341</td><td>306/181 abeckett ...</td><td>306</td><td>181</td><td>abeckett</td><td>street</td><td>melbourne</td><td>3000</td><td>3</td><td>VIC</td><td>214683784</td><td>35.720844869191446</td></tr>\n",
       "<tr><td>268</td><td>304/238 flinders ...</td><td>304</td><td>238</td><td>flinders</td><td>lane</td><td>melbourne</td><td>3000</td><td>3</td><td>VIC</td><td>206306548</td><td>81.66953866486438</td></tr>\n",
       "<tr><td>18</td><td>305/39 queen stre...</td><td>305</td><td>39</td><td>queen</td><td>street</td><td>melbourne</td><td>3000</td><td>3</td><td>VIC</td><td>50068739</td><td>73.61842700839043</td></tr>\n",
       "<tr><td>80</td><td>302/543 elizabeth...</td><td>302</td><td>543</td><td>elizabeth</td><td>street</td><td>melbourne</td><td>3000</td><td>3</td><td>VIC</td><td>455247962</td><td>81.67118634358049</td></tr>\n",
       "<tr><td>79</td><td>303/543 elizabeth...</td><td>303</td><td>543</td><td>elizabeth</td><td>street</td><td>melbourne</td><td>3000</td><td>3</td><td>VIC</td><td>455247652</td><td>81.67118634358049</td></tr>\n",
       "<tr><td>81</td><td>301/543 elizabeth...</td><td>301</td><td>543</td><td>elizabeth</td><td>street</td><td>melbourne</td><td>3000</td><td>3</td><td>VIC</td><td>455247649</td><td>81.67118634358049</td></tr>\n",
       "<tr><td>78</td><td>304/543 elizabeth...</td><td>304</td><td>543</td><td>elizabeth</td><td>street</td><td>melbourne</td><td>3000</td><td>3</td><td>VIC</td><td>455247655</td><td>81.67118634358049</td></tr>\n",
       "<tr><td>77</td><td>305/543 elizabeth...</td><td>305</td><td>543</td><td>elizabeth</td><td>street</td><td>melbourne</td><td>3000</td><td>3</td><td>VIC</td><td>455247965</td><td>81.67118634358049</td></tr>\n",
       "<tr><td>760</td><td>308/648 lonsdale ...</td><td>308</td><td>648</td><td>lonsdale</td><td>street</td><td>melbourne</td><td>3000</td><td>3</td><td>VIC</td><td>455522477</td><td>129.643100190915</td></tr>\n",
       "<tr><td>158</td><td>478/139 lonsdale ...</td><td>478</td><td>139</td><td>lonsdale</td><td>street</td><td>melbourne</td><td>3000</td><td>4</td><td>VIC</td><td>172573629</td><td>47.90896052068898</td></tr>\n",
       "<tr><td>260</td><td>405/155 franklin ...</td><td>405</td><td>155</td><td>franklin</td><td>street</td><td>melbourne</td><td>3000</td><td>4</td><td>VIC</td><td>220259898</td><td>605.0766143076138</td></tr>\n",
       "<tr><td>316</td><td>409/668 bourke st...</td><td>409</td><td>668</td><td>bourke</td><td>street</td><td>melbourne</td><td>3000</td><td>4</td><td>VIC</td><td>53039259</td><td>321.6957154497504</td></tr>\n",
       "</table>\n"
      ],
      "text/plain": [
       "+---+--------------------+-------+--------+-------------+---------+---------+--------+-------+-----+---------+------------------+\n",
       "| id|             address|APT_NUM|BLDG_NUM|    ROAD_NAME|ROAD_TYPE| LOCALITY|POSTCODE|APT_LVL|STATE|   PR_PFI|              area|\n",
       "+---+--------------------+-------+--------+-------------+---------+---------+--------+-------+-----+---------+------------------+\n",
       "| 15|32/18 queen stree...|     32|      18|        queen|   street|melbourne|    3000|      0|  VIC| 52519796| 12.05167394131422|\n",
       "|493|1/24-38 little bo...|      1|      24|little bourke|   street|melbourne|    3000|      0|  VIC| 52788949| 33.43753358763756|\n",
       "| 59|2/6 anthony stree...|      2|       6|      anthony|   street|melbourne|    3000|      0|  VIC| 50078519| 35.45786546121041|\n",
       "|524|l44/81 abeckett s...|     44|      81|     abeckett|   street|melbourne|    3000|      0|  VIC|426603630|11.863994440324765|\n",
       "|538|7/9-13 anthony st...|      7|       9|      anthony|   street|melbourne|    3000|      0|  VIC|203508942|327.94286047294736|\n",
       "|358|72/99 spring stre...|     72|      99|       spring|   street|melbourne|    3000|      0|  VIC|203503928| 62.60909214963515|\n",
       "|799|114/299 queen str...|    114|     299|        queen|   street|melbourne|    3000|      1|  VIC| 52559131| 39.75980424561671|\n",
       "|796|310/11 rose lane ...|    310|      11|         rose|     lane|melbourne|    3000|      3|  VIC|422616960| 57.12811692707692|\n",
       "|341|306/181 abeckett ...|    306|     181|     abeckett|   street|melbourne|    3000|      3|  VIC|214683784|35.720844869191446|\n",
       "|268|304/238 flinders ...|    304|     238|     flinders|     lane|melbourne|    3000|      3|  VIC|206306548| 81.66953866486438|\n",
       "| 18|305/39 queen stre...|    305|      39|        queen|   street|melbourne|    3000|      3|  VIC| 50068739| 73.61842700839043|\n",
       "| 80|302/543 elizabeth...|    302|     543|    elizabeth|   street|melbourne|    3000|      3|  VIC|455247962| 81.67118634358049|\n",
       "| 79|303/543 elizabeth...|    303|     543|    elizabeth|   street|melbourne|    3000|      3|  VIC|455247652| 81.67118634358049|\n",
       "| 81|301/543 elizabeth...|    301|     543|    elizabeth|   street|melbourne|    3000|      3|  VIC|455247649| 81.67118634358049|\n",
       "| 78|304/543 elizabeth...|    304|     543|    elizabeth|   street|melbourne|    3000|      3|  VIC|455247655| 81.67118634358049|\n",
       "| 77|305/543 elizabeth...|    305|     543|    elizabeth|   street|melbourne|    3000|      3|  VIC|455247965| 81.67118634358049|\n",
       "|760|308/648 lonsdale ...|    308|     648|     lonsdale|   street|melbourne|    3000|      3|  VIC|455522477|  129.643100190915|\n",
       "|158|478/139 lonsdale ...|    478|     139|     lonsdale|   street|melbourne|    3000|      4|  VIC|172573629| 47.90896052068898|\n",
       "|260|405/155 franklin ...|    405|     155|     franklin|   street|melbourne|    3000|      4|  VIC|220259898| 605.0766143076138|\n",
       "|316|409/668 bourke st...|    409|     668|       bourke|   street|melbourne|    3000|      4|  VIC| 53039259| 321.6957154497504|\n",
       "+---+--------------------+-------+--------+-------------+---------+---------+--------+-------+-----+---------+------------------+"
      ]
     },
     "execution_count": 15,
     "metadata": {},
     "output_type": "execute_result"
    }
   ],
   "source": [
    "all_matched.limit(20)"
   ]
  },
  {
   "cell_type": "code",
   "execution_count": 14,
   "metadata": {},
   "outputs": [
    {
     "name": "stderr",
     "output_type": "stream",
     "text": [
      "[Stage 4372:===>                                                  (1 + 15) / 16]\r"
     ]
    },
    {
     "name": "stdout",
     "output_type": "stream",
     "text": [
      "9832 1268\n"
     ]
    },
    {
     "name": "stderr",
     "output_type": "stream",
     "text": [
      "                                                                                \r"
     ]
    }
   ],
   "source": [
    "print(all_matched.count(), all_unmatched.count())"
   ]
  },
  {
   "cell_type": "code",
   "execution_count": 10,
   "metadata": {},
   "outputs": [
    {
     "name": "stderr",
     "output_type": "stream",
     "text": [
      "[Stage 2393:>                                                     (0 + 15) / 15]\r"
     ]
    },
    {
     "name": "stdout",
     "output_type": "stream",
     "text": [
      "9433 1206\n"
     ]
    },
    {
     "name": "stderr",
     "output_type": "stream",
     "text": [
      "                                                                                \r"
     ]
    }
   ],
   "source": [
    "print(all_matched.count(), all_unmatched.count())"
   ]
  },
  {
   "cell_type": "code",
   "execution_count": 11,
   "metadata": {},
   "outputs": [],
   "source": [
    "# matching unmatched entries by locality- as some listings on domain listed incorrect postcodes but correct suburb \n",
    "cond = (((all_unmatched['APT_NUM'] == all_properties['APT_NUM']) | \n",
    "        ((all_unmatched['APT_NUM'].isNull() == True) & (all_properties['APT_NUM'].isNull() == True))) &\\\n",
    "        (all_unmatched['BLDG_NUM'] == all_properties['BLDG_NUM']) &\\\n",
    "        (all_unmatched['ROAD_NAME'] == all_properties['ROAD_NAME']) &\\\n",
    "        (all_unmatched['ROAD_TYPE'] == all_properties['ROAD_TYPE']) &\\\n",
    "        (all_unmatched['LOCALITY'] == all_properties['LOCALITY']))\n",
    "joined_by_locality = all_unmatched.join(all_properties, cond, \"left\")\\\n",
    "        .drop(all_properties['APT_NUM'],all_properties['BLDG_NUM'],all_properties['ROAD_NAME'],all_properties['ROAD_TYPE'],all_properties['LOCALITY'], all_properties['POSTCODE'], all_properties['APT_LVL'])\n",
    "matched_by_locality = joined_by_locality.filter(F.col(\"area\").isNotNull() == True)\n",
    "not_matched_by_locality = joined_by_locality.filter(F.col(\"area\").isNull() == True)"
   ]
  },
  {
   "cell_type": "code",
   "execution_count": 12,
   "metadata": {},
   "outputs": [
    {
     "name": "stderr",
     "output_type": "stream",
     "text": [
      "                                                                                \r"
     ]
    }
   ],
   "source": [
    "# combining entried matched by locality to previously matched data \n",
    "all_matched = all_matched.unionByName(matched_by_locality)\n",
    "all_matched.write.mode('overwrite').csv('../data/curated/all_matched.csv')"
   ]
  },
  {
   "cell_type": "code",
   "execution_count": 18,
   "metadata": {},
   "outputs": [
    {
     "name": "stderr",
     "output_type": "stream",
     "text": [
      "23/09/20 14:13:31 WARN CSVHeaderChecker: CSV header does not conform to the schema.\n",
      " Header: , id, address, property_type, price_per_week, postcode, parking_spaces, bedrooms, bathrooms, furnished_found\n",
      " Schema: _c0, id, address, property_type, price_per_week, postcode, parking_spaces, bedrooms, bathrooms, furnished_found\n",
      "Expected: _c0 but found: \n",
      "CSV file: file:///mnt/c/Users/clari/OneDrive/ads/real-estate-industry-project-open-source-industry-project-40-1/data/curated/real_estate_2023.csv\n",
      "23/09/20 14:13:31 WARN CSVHeaderChecker: CSV header does not conform to the schema.\n",
      " Header: , id, address, property_type, price_per_week, postcode, parking_spaces, bedrooms, bathrooms, furnished_found\n",
      " Schema: _c0, id, address, property_type, price_per_week, postcode, parking_spaces, bedrooms, bathrooms, furnished_found\n",
      "Expected: _c0 but found: \n",
      "CSV file: file:///mnt/c/Users/clari/OneDrive/ads/real-estate-industry-project-open-source-industry-project-40-1/data/curated/real_estate_2023.csv\n"
     ]
    },
    {
     "data": {
      "text/html": [
       "<table border='1'>\n",
       "<tr><th>_c0</th><th>id</th><th>address</th><th>property_type</th><th>price_per_week</th><th>postcode</th><th>parking_spaces</th><th>bedrooms</th><th>bathrooms</th><th>furnished_found</th></tr>\n",
       "<tr><td>0</td><td>0</td><td>904/265 Exhibitio...</td><td>Apartment / Unit ...</td><td>850.0</td><td>3000</td><td>1.0</td><td>2.0</td><td>2.0</td><td>False</td></tr>\n",
       "<tr><td>1</td><td>1</td><td>210/422 Collins S...</td><td>Apartment / Unit ...</td><td>475.0</td><td>3000</td><td>null</td><td>1.0</td><td>1.0</td><td>True</td></tr>\n",
       "<tr><td>2</td><td>2</td><td>1902/200 Spencer ...</td><td>Apartment / Unit ...</td><td>630.0</td><td>3000</td><td>1.0</td><td>2.0</td><td>1.0</td><td>False</td></tr>\n",
       "<tr><td>3</td><td>3</td><td>312B/399 Bourke S...</td><td>Apartment / Unit ...</td><td>450.0</td><td>3000</td><td>null</td><td>1.0</td><td>1.0</td><td>False</td></tr>\n",
       "<tr><td>4</td><td>4</td><td>3313/228 La Trobe...</td><td>House</td><td>900.0</td><td>3000</td><td>2.0</td><td>2.0</td><td>1.0</td><td>True</td></tr>\n",
       "<tr><td>5</td><td>5</td><td>301/499 St Kilda ...</td><td>Apartment / Unit ...</td><td>470.0</td><td>3000</td><td>null</td><td>1.0</td><td>1.0</td><td>False</td></tr>\n",
       "<tr><td>6</td><td>6</td><td>2302/17 Spring St...</td><td>Apartment / Unit ...</td><td>1500.0</td><td>3000</td><td>1.0</td><td>2.0</td><td>2.0</td><td>False</td></tr>\n",
       "<tr><td>7</td><td>7</td><td>3201/318 Queen St...</td><td>Apartment / Unit ...</td><td>550.0</td><td>3000</td><td>null</td><td>1.0</td><td>1.0</td><td>False</td></tr>\n",
       "<tr><td>8</td><td>8</td><td>1/113 brook stree...</td><td>null</td><td>600.0</td><td>3000</td><td>null</td><td>1.0</td><td>1.0</td><td>False</td></tr>\n",
       "<tr><td>9</td><td>9</td><td>403/17 Singers La...</td><td>Apartment / Unit ...</td><td>450.0</td><td>3000</td><td>null</td><td>1.0</td><td>1.0</td><td>False</td></tr>\n",
       "<tr><td>10</td><td>10</td><td>1413/199 William ...</td><td>Apartment / Unit ...</td><td>650.0</td><td>3000</td><td>null</td><td>2.0</td><td>1.0</td><td>False</td></tr>\n",
       "<tr><td>11</td><td>11</td><td>2408/5 Sutherland...</td><td>Apartment / Unit ...</td><td>580.0</td><td>3000</td><td>null</td><td>2.0</td><td>1.0</td><td>False</td></tr>\n",
       "<tr><td>12</td><td>12</td><td>11/187 Collins St...</td><td>Apartment / Unit ...</td><td>800.0</td><td>3000</td><td>null</td><td>1.0</td><td>1.0</td><td>False</td></tr>\n",
       "<tr><td>13</td><td>13</td><td>1212/555 Flinders...</td><td>Apartment / Unit ...</td><td>450.0</td><td>3000</td><td>null</td><td>1.0</td><td>1.0</td><td>False</td></tr>\n",
       "<tr><td>14</td><td>14</td><td>5/650 Elizabeth S...</td><td>Apartment / Unit ...</td><td>500.0</td><td>3000</td><td>null</td><td>1.0</td><td>1.0</td><td>True</td></tr>\n",
       "<tr><td>15</td><td>15</td><td>32/18 Queen Stree...</td><td>Apartment / Unit ...</td><td>495.0</td><td>3000</td><td>null</td><td>1.0</td><td>1.0</td><td>False</td></tr>\n",
       "<tr><td>16</td><td>16</td><td>301/565 Flinders ...</td><td>Apartment / Unit ...</td><td>400.0</td><td>3000</td><td>null</td><td>1.0</td><td>1.0</td><td>False</td></tr>\n",
       "<tr><td>17</td><td>17</td><td>511/118 Franklin ...</td><td>Apartment / Unit ...</td><td>550.0</td><td>3000</td><td>null</td><td>2.0</td><td>1.0</td><td>True</td></tr>\n",
       "<tr><td>18</td><td>18</td><td>305/39 Queen Stre...</td><td>Apartment / Unit ...</td><td>460.0</td><td>3000</td><td>null</td><td>1.0</td><td>1.0</td><td>False</td></tr>\n",
       "<tr><td>19</td><td>19</td><td>2805/220 Spencer ...</td><td>Apartment / Unit ...</td><td>430.0</td><td>3000</td><td>null</td><td>0.0</td><td>1.0</td><td>False</td></tr>\n",
       "</table>\n"
      ],
      "text/plain": [
       "+---+---+--------------------+--------------------+--------------+--------+--------------+--------+---------+---------------+\n",
       "|_c0| id|             address|       property_type|price_per_week|postcode|parking_spaces|bedrooms|bathrooms|furnished_found|\n",
       "+---+---+--------------------+--------------------+--------------+--------+--------------+--------+---------+---------------+\n",
       "|  0|  0|904/265 Exhibitio...|Apartment / Unit ...|         850.0|    3000|           1.0|     2.0|      2.0|          False|\n",
       "|  1|  1|210/422 Collins S...|Apartment / Unit ...|         475.0|    3000|          null|     1.0|      1.0|           True|\n",
       "|  2|  2|1902/200 Spencer ...|Apartment / Unit ...|         630.0|    3000|           1.0|     2.0|      1.0|          False|\n",
       "|  3|  3|312B/399 Bourke S...|Apartment / Unit ...|         450.0|    3000|          null|     1.0|      1.0|          False|\n",
       "|  4|  4|3313/228 La Trobe...|               House|         900.0|    3000|           2.0|     2.0|      1.0|           True|\n",
       "|  5|  5|301/499 St Kilda ...|Apartment / Unit ...|         470.0|    3000|          null|     1.0|      1.0|          False|\n",
       "|  6|  6|2302/17 Spring St...|Apartment / Unit ...|        1500.0|    3000|           1.0|     2.0|      2.0|          False|\n",
       "|  7|  7|3201/318 Queen St...|Apartment / Unit ...|         550.0|    3000|          null|     1.0|      1.0|          False|\n",
       "|  8|  8|1/113 brook stree...|                null|         600.0|    3000|          null|     1.0|      1.0|          False|\n",
       "|  9|  9|403/17 Singers La...|Apartment / Unit ...|         450.0|    3000|          null|     1.0|      1.0|          False|\n",
       "| 10| 10|1413/199 William ...|Apartment / Unit ...|         650.0|    3000|          null|     2.0|      1.0|          False|\n",
       "| 11| 11|2408/5 Sutherland...|Apartment / Unit ...|         580.0|    3000|          null|     2.0|      1.0|          False|\n",
       "| 12| 12|11/187 Collins St...|Apartment / Unit ...|         800.0|    3000|          null|     1.0|      1.0|          False|\n",
       "| 13| 13|1212/555 Flinders...|Apartment / Unit ...|         450.0|    3000|          null|     1.0|      1.0|          False|\n",
       "| 14| 14|5/650 Elizabeth S...|Apartment / Unit ...|         500.0|    3000|          null|     1.0|      1.0|           True|\n",
       "| 15| 15|32/18 Queen Stree...|Apartment / Unit ...|         495.0|    3000|          null|     1.0|      1.0|          False|\n",
       "| 16| 16|301/565 Flinders ...|Apartment / Unit ...|         400.0|    3000|          null|     1.0|      1.0|          False|\n",
       "| 17| 17|511/118 Franklin ...|Apartment / Unit ...|         550.0|    3000|          null|     2.0|      1.0|           True|\n",
       "| 18| 18|305/39 Queen Stre...|Apartment / Unit ...|         460.0|    3000|          null|     1.0|      1.0|          False|\n",
       "| 19| 19|2805/220 Spencer ...|Apartment / Unit ...|         430.0|    3000|          null|     0.0|      1.0|          False|\n",
       "+---+---+--------------------+--------------------+--------------+--------+--------------+--------+---------+---------------+"
      ]
     },
     "execution_count": 18,
     "metadata": {},
     "output_type": "execute_result"
    }
   ],
   "source": [
    "spark.read.csv('../data/curated/real_estate_2023.csv', header=True).limit(20)"
   ]
  },
  {
   "cell_type": "code",
   "execution_count": 41,
   "metadata": {},
   "outputs": [],
   "source": [
    "schema = StructType([StructField('index', StringType(), True),\\\n",
    "                    StructField('id', StringType(), True),\\\n",
    "                    StructField('address', StringType(), True),\\\n",
    "                    StructField('property_type', IntegerType(), True),\\\n",
    "                    StructField('price_per_week', StringType(), True),\\\n",
    "                    StructField('postcode', StringType(), True),\\\n",
    "                    StructField('parking_spaces', StringType(), True),\\\n",
    "                    StructField('bedrooms', StringType(), True),\\\n",
    "                    StructField('bathrooms', StringType(), True),\\\n",
    "                    StructField('furnished_found', StringType(), True),\\\n",
    "                    StructField('internal_area', StringType(), True),\\\n",
    "                    StructField('land_area', StringType(), True)])\n",
    "\n",
    "complete_df = spark.read.csv('../data/curated/real_estate_2023.csv', header=True, schema=schema)\n",
    "\n",
    "combined_df = all_matched['id', 'APT_LVL','LOCALITY', 'area'].join(complete_df, how=\"inner\", on='id')"
   ]
  },
  {
   "cell_type": "code",
   "execution_count": null,
   "metadata": {},
   "outputs": [],
   "source": []
  },
  {
   "cell_type": "code",
   "execution_count": 38,
   "metadata": {},
   "outputs": [
    {
     "name": "stderr",
     "output_type": "stream",
     "text": [
      "23/09/20 14:32:36 WARN CSVHeaderChecker: CSV header does not conform to the schema.\n",
      " Header: , id, address, property_type, price_per_week, postcode, parking_spaces, bedrooms, bathrooms, furnished_found, internal_area, land_area\n",
      " Schema: index, id, address, property_type, price_per_week, postcode, parking_spaces, bedrooms, bathrooms, furnished_found, internal_area, land_area\n",
      "Expected: index but found: \n",
      "CSV file: file:///mnt/c/Users/clari/OneDrive/ads/real-estate-industry-project-open-source-industry-project-40-1/data/curated/real_estate_2023.csv\n",
      "23/09/20 14:32:36 WARN CSVHeaderChecker: CSV header does not conform to the schema.\n",
      " Header: , id, address, property_type, price_per_week, postcode, parking_spaces, bedrooms, bathrooms, furnished_found, internal_area, land_area\n",
      " Schema: index, id, address, property_type, price_per_week, postcode, parking_spaces, bedrooms, bathrooms, furnished_found, internal_area, land_area\n",
      "Expected: index but found: \n",
      "CSV file: file:///mnt/c/Users/clari/OneDrive/ads/real-estate-industry-project-open-source-industry-project-40-1/data/curated/real_estate_2023.csv\n"
     ]
    },
    {
     "data": {
      "text/html": [
       "<table border='1'>\n",
       "<tr><th>index</th><th>id</th><th>address</th><th>property_type</th><th>price_per_week</th><th>postcode</th><th>parking_spaces</th><th>bedrooms</th><th>bathrooms</th><th>furnished_found</th><th>internal_area</th><th>land_area</th></tr>\n",
       "<tr><td>0</td><td>0</td><td>904/265 Exhibitio...</td><td>null</td><td>850.0</td><td>3000</td><td>1.0</td><td>2.0</td><td>2.0</td><td>False</td><td>[&#x27;92&#x27;]</td><td>null</td></tr>\n",
       "<tr><td>1</td><td>1</td><td>210/422 Collins S...</td><td>null</td><td>475.0</td><td>3000</td><td>null</td><td>1.0</td><td>1.0</td><td>True</td><td>[&#x27;42&#x27;]</td><td>null</td></tr>\n",
       "<tr><td>2</td><td>2</td><td>1902/200 Spencer ...</td><td>null</td><td>630.0</td><td>3000</td><td>1.0</td><td>2.0</td><td>1.0</td><td>False</td><td>null</td><td>null</td></tr>\n",
       "<tr><td>3</td><td>3</td><td>312B/399 Bourke S...</td><td>null</td><td>450.0</td><td>3000</td><td>null</td><td>1.0</td><td>1.0</td><td>False</td><td>null</td><td>null</td></tr>\n",
       "<tr><td>4</td><td>4</td><td>3313/228 La Trobe...</td><td>null</td><td>900.0</td><td>3000</td><td>2.0</td><td>2.0</td><td>1.0</td><td>True</td><td>null</td><td>null</td></tr>\n",
       "<tr><td>5</td><td>5</td><td>301/499 St Kilda ...</td><td>null</td><td>470.0</td><td>3000</td><td>null</td><td>1.0</td><td>1.0</td><td>False</td><td>null</td><td>null</td></tr>\n",
       "<tr><td>6</td><td>6</td><td>2302/17 Spring St...</td><td>null</td><td>1500.0</td><td>3000</td><td>1.0</td><td>2.0</td><td>2.0</td><td>False</td><td>null</td><td>null</td></tr>\n",
       "<tr><td>7</td><td>7</td><td>3201/318 Queen St...</td><td>null</td><td>550.0</td><td>3000</td><td>null</td><td>1.0</td><td>1.0</td><td>False</td><td>null</td><td>null</td></tr>\n",
       "<tr><td>8</td><td>8</td><td>1/113 brook stree...</td><td>null</td><td>600.0</td><td>3000</td><td>null</td><td>1.0</td><td>1.0</td><td>False</td><td>null</td><td>null</td></tr>\n",
       "<tr><td>9</td><td>9</td><td>403/17 Singers La...</td><td>null</td><td>450.0</td><td>3000</td><td>null</td><td>1.0</td><td>1.0</td><td>False</td><td>null</td><td>null</td></tr>\n",
       "<tr><td>10</td><td>10</td><td>1413/199 William ...</td><td>null</td><td>650.0</td><td>3000</td><td>null</td><td>2.0</td><td>1.0</td><td>False</td><td>null</td><td>null</td></tr>\n",
       "<tr><td>11</td><td>11</td><td>2408/5 Sutherland...</td><td>null</td><td>580.0</td><td>3000</td><td>null</td><td>2.0</td><td>1.0</td><td>False</td><td>null</td><td>null</td></tr>\n",
       "<tr><td>12</td><td>12</td><td>11/187 Collins St...</td><td>null</td><td>800.0</td><td>3000</td><td>null</td><td>1.0</td><td>1.0</td><td>False</td><td>null</td><td>null</td></tr>\n",
       "<tr><td>13</td><td>13</td><td>1212/555 Flinders...</td><td>null</td><td>450.0</td><td>3000</td><td>null</td><td>1.0</td><td>1.0</td><td>False</td><td>null</td><td>null</td></tr>\n",
       "<tr><td>14</td><td>14</td><td>5/650 Elizabeth S...</td><td>null</td><td>500.0</td><td>3000</td><td>null</td><td>1.0</td><td>1.0</td><td>True</td><td>null</td><td>null</td></tr>\n",
       "<tr><td>15</td><td>15</td><td>32/18 Queen Stree...</td><td>null</td><td>495.0</td><td>3000</td><td>null</td><td>1.0</td><td>1.0</td><td>False</td><td>null</td><td>null</td></tr>\n",
       "<tr><td>16</td><td>16</td><td>301/565 Flinders ...</td><td>null</td><td>400.0</td><td>3000</td><td>null</td><td>1.0</td><td>1.0</td><td>False</td><td>null</td><td>null</td></tr>\n",
       "<tr><td>17</td><td>17</td><td>511/118 Franklin ...</td><td>null</td><td>550.0</td><td>3000</td><td>null</td><td>2.0</td><td>1.0</td><td>True</td><td>null</td><td>null</td></tr>\n",
       "<tr><td>18</td><td>18</td><td>305/39 Queen Stre...</td><td>null</td><td>460.0</td><td>3000</td><td>null</td><td>1.0</td><td>1.0</td><td>False</td><td>null</td><td>null</td></tr>\n",
       "<tr><td>19</td><td>19</td><td>2805/220 Spencer ...</td><td>null</td><td>430.0</td><td>3000</td><td>null</td><td>0.0</td><td>1.0</td><td>False</td><td>null</td><td>null</td></tr>\n",
       "</table>\n"
      ],
      "text/plain": [
       "+-----+---+--------------------+-------------+--------------+--------+--------------+--------+---------+---------------+-------------+---------+\n",
       "|index| id|             address|property_type|price_per_week|postcode|parking_spaces|bedrooms|bathrooms|furnished_found|internal_area|land_area|\n",
       "+-----+---+--------------------+-------------+--------------+--------+--------------+--------+---------+---------------+-------------+---------+\n",
       "|    0|  0|904/265 Exhibitio...|         null|         850.0|    3000|           1.0|     2.0|      2.0|          False|       ['92']|     null|\n",
       "|    1|  1|210/422 Collins S...|         null|         475.0|    3000|          null|     1.0|      1.0|           True|       ['42']|     null|\n",
       "|    2|  2|1902/200 Spencer ...|         null|         630.0|    3000|           1.0|     2.0|      1.0|          False|         null|     null|\n",
       "|    3|  3|312B/399 Bourke S...|         null|         450.0|    3000|          null|     1.0|      1.0|          False|         null|     null|\n",
       "|    4|  4|3313/228 La Trobe...|         null|         900.0|    3000|           2.0|     2.0|      1.0|           True|         null|     null|\n",
       "|    5|  5|301/499 St Kilda ...|         null|         470.0|    3000|          null|     1.0|      1.0|          False|         null|     null|\n",
       "|    6|  6|2302/17 Spring St...|         null|        1500.0|    3000|           1.0|     2.0|      2.0|          False|         null|     null|\n",
       "|    7|  7|3201/318 Queen St...|         null|         550.0|    3000|          null|     1.0|      1.0|          False|         null|     null|\n",
       "|    8|  8|1/113 brook stree...|         null|         600.0|    3000|          null|     1.0|      1.0|          False|         null|     null|\n",
       "|    9|  9|403/17 Singers La...|         null|         450.0|    3000|          null|     1.0|      1.0|          False|         null|     null|\n",
       "|   10| 10|1413/199 William ...|         null|         650.0|    3000|          null|     2.0|      1.0|          False|         null|     null|\n",
       "|   11| 11|2408/5 Sutherland...|         null|         580.0|    3000|          null|     2.0|      1.0|          False|         null|     null|\n",
       "|   12| 12|11/187 Collins St...|         null|         800.0|    3000|          null|     1.0|      1.0|          False|         null|     null|\n",
       "|   13| 13|1212/555 Flinders...|         null|         450.0|    3000|          null|     1.0|      1.0|          False|         null|     null|\n",
       "|   14| 14|5/650 Elizabeth S...|         null|         500.0|    3000|          null|     1.0|      1.0|           True|         null|     null|\n",
       "|   15| 15|32/18 Queen Stree...|         null|         495.0|    3000|          null|     1.0|      1.0|          False|         null|     null|\n",
       "|   16| 16|301/565 Flinders ...|         null|         400.0|    3000|          null|     1.0|      1.0|          False|         null|     null|\n",
       "|   17| 17|511/118 Franklin ...|         null|         550.0|    3000|          null|     2.0|      1.0|           True|         null|     null|\n",
       "|   18| 18|305/39 Queen Stre...|         null|         460.0|    3000|          null|     1.0|      1.0|          False|         null|     null|\n",
       "|   19| 19|2805/220 Spencer ...|         null|         430.0|    3000|          null|     0.0|      1.0|          False|         null|     null|\n",
       "+-----+---+--------------------+-------------+--------------+--------+--------------+--------+---------+---------------+-------------+---------+"
      ]
     },
     "execution_count": 38,
     "metadata": {},
     "output_type": "execute_result"
    }
   ],
   "source": [
    "complete_df.limit(20)"
   ]
  },
  {
   "cell_type": "code",
   "execution_count": 42,
   "metadata": {},
   "outputs": [
    {
     "name": "stderr",
     "output_type": "stream",
     "text": [
      "23/09/20 14:43:28 WARN CSVHeaderChecker: CSV header does not conform to the schema.\n",
      " Header: , id, address, property_type, price_per_week, postcode, parking_spaces, bedrooms, bathrooms, furnished_found, internal_area, land_area\n",
      " Schema: index, id, address, property_type, price_per_week, postcode, parking_spaces, bedrooms, bathrooms, furnished_found, internal_area, land_area\n",
      "Expected: index but found: \n",
      "CSV file: file:///mnt/c/Users/clari/OneDrive/ads/real-estate-industry-project-open-source-industry-project-40-1/data/curated/real_estate_2023.csv\n",
      "                                                                                \r"
     ]
    }
   ],
   "source": [
    "combined_df.write.mode('overwrite').csv('../data/curated/real_estate_2023_matched_area.csv')"
   ]
  },
  {
   "cell_type": "code",
   "execution_count": 44,
   "metadata": {},
   "outputs": [
    {
     "name": "stderr",
     "output_type": "stream",
     "text": [
      "23/09/20 14:51:24 WARN CSVHeaderChecker: CSV header does not conform to the schema.\n",
      " Header: , id, address, property_type, price_per_week, postcode, parking_spaces, bedrooms, bathrooms, furnished_found, internal_area, land_area\n",
      " Schema: index, id, address, property_type, price_per_week, postcode, parking_spaces, bedrooms, bathrooms, furnished_found, internal_area, land_area\n",
      "Expected: index but found: \n",
      "CSV file: file:///mnt/c/Users/clari/OneDrive/ads/real-estate-industry-project-open-source-industry-project-40-1/data/curated/real_estate_2023.csv\n",
      "23/09/20 14:51:41 WARN CSVHeaderChecker: CSV header does not conform to the schema.\n",
      " Header: , id, address, property_type, price_per_week, postcode, parking_spaces, bedrooms, bathrooms, furnished_found, internal_area, land_area\n",
      " Schema: index, id, address, property_type, price_per_week, postcode, parking_spaces, bedrooms, bathrooms, furnished_found, internal_area, land_area\n",
      "Expected: index but found: \n",
      "CSV file: file:///mnt/c/Users/clari/OneDrive/ads/real-estate-industry-project-open-source-industry-project-40-1/data/curated/real_estate_2023.csv\n",
      "                                                                                \r"
     ]
    },
    {
     "data": {
      "text/html": [
       "<table border='1'>\n",
       "<tr><th>id</th><th>APT_LVL</th><th>LOCALITY</th><th>area</th><th>index</th><th>address</th><th>property_type</th><th>price_per_week</th><th>postcode</th><th>parking_spaces</th><th>bedrooms</th><th>bathrooms</th><th>furnished_found</th><th>internal_area</th><th>land_area</th></tr>\n",
       "<tr><td>82</td><td>3</td><td>melbourne</td><td>57.04374857475473</td><td>82</td><td>301/68 La Trobe S...</td><td>null</td><td>650.0</td><td>3000</td><td>1.0</td><td>2.0</td><td>1.0</td><td>False</td><td>[&#x27;7&#x27;]</td><td>[&#x27;65&#x27;]</td></tr>\n",
       "<tr><td>448</td><td>21</td><td>melbourne</td><td>210.7216558296796</td><td>434</td><td>2115/101 Therry S...</td><td>null</td><td>905.0</td><td>3000</td><td>null</td><td>2.0</td><td>2.0</td><td>False</td><td>null</td><td>[&#x27;90&#x27;]</td></tr>\n",
       "<tr><td>1142</td><td>11</td><td>southbank</td><td>124.6430853609927</td><td>1056</td><td>1106/283 City Roa...</td><td>null</td><td>460.0</td><td>3006</td><td>null</td><td>1.0</td><td>1.0</td><td>False</td><td>null</td><td>[&#x27;1495&#x27;]</td></tr>\n",
       "<tr><td>1181</td><td>24</td><td>southbank</td><td>196.2764498416121</td><td>1095</td><td>2401/45 Haig Stre...</td><td>null</td><td>675.0</td><td>3006</td><td>null</td><td>2.0</td><td>2.0</td><td>False</td><td>null</td><td>[&#x27;2356&#x27;]</td></tr>\n",
       "<tr><td>1325</td><td>26</td><td>southbank</td><td>174.84246184848598</td><td>1236</td><td>262/183 City Road...</td><td>null</td><td>1400.0</td><td>3006</td><td>null</td><td>2.0</td><td>2.0</td><td>True</td><td>null</td><td>[&#x27;100&#x27;]</td></tr>\n",
       "<tr><td>1165</td><td>0</td><td>southbank</td><td>778.4982074294239</td><td>1079</td><td>1/79 Dodds Street...</td><td>null</td><td>675.0</td><td>3006</td><td>1.0</td><td>2.0</td><td>1.0</td><td>False</td><td>[&#x27;115&#x27;]</td><td>[&#x27;115&#x27;]</td></tr>\n",
       "<tr><td>1399</td><td>16</td><td>southbank</td><td>88.5323865265883</td><td>1306</td><td>1601/11 Bale Circ...</td><td>null</td><td>650.0</td><td>3006</td><td>null</td><td>2.0</td><td>2.0</td><td>False</td><td>null</td><td>[&#x27;287326&#x27;]</td></tr>\n",
       "<tr><td>9670</td><td>0</td><td>ballarat north</td><td>54.607836455153304</td><td>9271</td><td>2/1010 Ligar Stre...</td><td>null</td><td>380.0</td><td>3350</td><td>2.0</td><td>3.0</td><td>2.0</td><td>False</td><td>[&#x27;18&#x27;]</td><td>[&#x27;232&#x27;]</td></tr>\n",
       "<tr><td>2429</td><td>0</td><td>werribee</td><td>16.498449559601795</td><td>2289</td><td>6/42-48 Cottrell ...</td><td>null</td><td>320.0</td><td>3030</td><td>1.0</td><td>2.0</td><td>1.0</td><td>False</td><td>null</td><td>[&#x27;129&#x27;]</td></tr>\n",
       "<tr><td>2506</td><td>0</td><td>werribee south</td><td>295.0817020075714</td><td>2364</td><td>31/656 O&#x27;Connors ...</td><td>null</td><td>650.0</td><td>3030</td><td>1.0</td><td>3.0</td><td>2.0</td><td>False</td><td>null</td><td>[&#x27;262&#x27;]</td></tr>\n",
       "<tr><td>10164</td><td>0</td><td>kennington</td><td>22.06071251866524</td><td>9735</td><td>8/8 Clarke Street...</td><td>null</td><td>420.0</td><td>3550</td><td>1.0</td><td>2.0</td><td>1.0</td><td>False</td><td>null</td><td>[&#x27;261&#x27;]</td></tr>\n",
       "<tr><td>10146</td><td>0</td><td>bendigo</td><td>4.497103196733138</td><td>9717</td><td>9/83-87 Arnold St...</td><td>null</td><td>390.0</td><td>3550</td><td>2.0</td><td>2.0</td><td>1.0</td><td>False</td><td>null</td><td>[&#x27;150&#x27;]</td></tr>\n",
       "<tr><td>10147</td><td>0</td><td>long gully</td><td>35.561465858248994</td><td>9718</td><td>6/58 Holdsworth R...</td><td>null</td><td>450.0</td><td>3550</td><td>2.0</td><td>3.0</td><td>2.0</td><td>False</td><td>null</td><td>[&#x27;300&#x27;]</td></tr>\n",
       "<tr><td>10161</td><td>0</td><td>north bendigo</td><td>41.28684083770107</td><td>9732</td><td>6/10 Cecil Street...</td><td>null</td><td>400.0</td><td>3550</td><td>1.0</td><td>3.0</td><td>1.0</td><td>False</td><td>null</td><td>[&#x27;269&#x27;]</td></tr>\n",
       "<tr><td>9496</td><td>0</td><td>melton south</td><td>2.7828051165763137</td><td>9102</td><td>14/62 andrew stre...</td><td>null</td><td>370.0</td><td>3338</td><td>2.0</td><td>3.0</td><td>1.0</td><td>False</td><td>null</td><td>[&#x27;175&#x27;]</td></tr>\n",
       "<tr><td>3430</td><td>18</td><td>carlton</td><td>80.26051349101617</td><td>3259</td><td>1815/555 Swanston...</td><td>null</td><td>750.0</td><td>3053</td><td>1.0</td><td>2.0</td><td>2.0</td><td>False</td><td>null</td><td>[&#x27;1600&#x27;]</td></tr>\n",
       "<tr><td>5097</td><td>4</td><td>richmond</td><td>1916.0942451756814</td><td>4892</td><td>401/228 Church St...</td><td>null</td><td>1670.0</td><td>3121</td><td>null</td><td>3.0</td><td>2.0</td><td>False</td><td>[&#x27;104&#x27;]</td><td>[&#x27;116&#x27;]</td></tr>\n",
       "<tr><td>5085</td><td>8</td><td>richmond</td><td>745.1477620127649</td><td>4880</td><td>811/246 Church St...</td><td>null</td><td>875.0</td><td>3121</td><td>null</td><td>2.0</td><td>2.0</td><td>False</td><td>[&#x27;76&#x27;]</td><td>[&#x27;92&#x27;]</td></tr>\n",
       "<tr><td>1473</td><td>20</td><td>docklands</td><td>164.17145869526334</td><td>1377</td><td>2001/5 Caravel La...</td><td>null</td><td>1384.0</td><td>3008</td><td>2.0</td><td>3.0</td><td>3.0</td><td>False</td><td>null</td><td>[&#x27;242&#x27;]</td></tr>\n",
       "<tr><td>7385</td><td>3</td><td>st kilda</td><td>136.2556430534977</td><td>7107</td><td>306/109 Inkerman ...</td><td>null</td><td>600.0</td><td>3182</td><td>1.0</td><td>2.0</td><td>2.0</td><td>False</td><td>[&#x27;74&#x27;]</td><td>[&#x27;1224&#x27;]</td></tr>\n",
       "</table>\n"
      ],
      "text/plain": [
       "+-----+-------+--------------+------------------+-----+--------------------+-------------+--------------+--------+--------------+--------+---------+---------------+-------------+----------+\n",
       "|   id|APT_LVL|      LOCALITY|              area|index|             address|property_type|price_per_week|postcode|parking_spaces|bedrooms|bathrooms|furnished_found|internal_area| land_area|\n",
       "+-----+-------+--------------+------------------+-----+--------------------+-------------+--------------+--------+--------------+--------+---------+---------------+-------------+----------+\n",
       "|   82|      3|     melbourne| 57.04374857475473|   82|301/68 La Trobe S...|         null|         650.0|    3000|           1.0|     2.0|      1.0|          False|        ['7']|    ['65']|\n",
       "|  448|     21|     melbourne| 210.7216558296796|  434|2115/101 Therry S...|         null|         905.0|    3000|          null|     2.0|      2.0|          False|         null|    ['90']|\n",
       "| 1142|     11|     southbank| 124.6430853609927| 1056|1106/283 City Roa...|         null|         460.0|    3006|          null|     1.0|      1.0|          False|         null|  ['1495']|\n",
       "| 1181|     24|     southbank| 196.2764498416121| 1095|2401/45 Haig Stre...|         null|         675.0|    3006|          null|     2.0|      2.0|          False|         null|  ['2356']|\n",
       "| 1325|     26|     southbank|174.84246184848598| 1236|262/183 City Road...|         null|        1400.0|    3006|          null|     2.0|      2.0|           True|         null|   ['100']|\n",
       "| 1165|      0|     southbank| 778.4982074294239| 1079|1/79 Dodds Street...|         null|         675.0|    3006|           1.0|     2.0|      1.0|          False|      ['115']|   ['115']|\n",
       "| 1399|     16|     southbank|  88.5323865265883| 1306|1601/11 Bale Circ...|         null|         650.0|    3006|          null|     2.0|      2.0|          False|         null|['287326']|\n",
       "| 9670|      0|ballarat north|54.607836455153304| 9271|2/1010 Ligar Stre...|         null|         380.0|    3350|           2.0|     3.0|      2.0|          False|       ['18']|   ['232']|\n",
       "| 2429|      0|      werribee|16.498449559601795| 2289|6/42-48 Cottrell ...|         null|         320.0|    3030|           1.0|     2.0|      1.0|          False|         null|   ['129']|\n",
       "| 2506|      0|werribee south| 295.0817020075714| 2364|31/656 O'Connors ...|         null|         650.0|    3030|           1.0|     3.0|      2.0|          False|         null|   ['262']|\n",
       "|10164|      0|    kennington| 22.06071251866524| 9735|8/8 Clarke Street...|         null|         420.0|    3550|           1.0|     2.0|      1.0|          False|         null|   ['261']|\n",
       "|10146|      0|       bendigo| 4.497103196733138| 9717|9/83-87 Arnold St...|         null|         390.0|    3550|           2.0|     2.0|      1.0|          False|         null|   ['150']|\n",
       "|10147|      0|    long gully|35.561465858248994| 9718|6/58 Holdsworth R...|         null|         450.0|    3550|           2.0|     3.0|      2.0|          False|         null|   ['300']|\n",
       "|10161|      0| north bendigo| 41.28684083770107| 9732|6/10 Cecil Street...|         null|         400.0|    3550|           1.0|     3.0|      1.0|          False|         null|   ['269']|\n",
       "| 9496|      0|  melton south|2.7828051165763137| 9102|14/62 andrew stre...|         null|         370.0|    3338|           2.0|     3.0|      1.0|          False|         null|   ['175']|\n",
       "| 3430|     18|       carlton| 80.26051349101617| 3259|1815/555 Swanston...|         null|         750.0|    3053|           1.0|     2.0|      2.0|          False|         null|  ['1600']|\n",
       "| 5097|      4|      richmond|1916.0942451756814| 4892|401/228 Church St...|         null|        1670.0|    3121|          null|     3.0|      2.0|          False|      ['104']|   ['116']|\n",
       "| 5085|      8|      richmond| 745.1477620127649| 4880|811/246 Church St...|         null|         875.0|    3121|          null|     2.0|      2.0|          False|       ['76']|    ['92']|\n",
       "| 1473|     20|     docklands|164.17145869526334| 1377|2001/5 Caravel La...|         null|        1384.0|    3008|           2.0|     3.0|      3.0|          False|         null|   ['242']|\n",
       "| 7385|      3|      st kilda| 136.2556430534977| 7107|306/109 Inkerman ...|         null|         600.0|    3182|           1.0|     2.0|      2.0|          False|       ['74']|  ['1224']|\n",
       "+-----+-------+--------------+------------------+-----+--------------------+-------------+--------------+--------+--------------+--------+---------+---------------+-------------+----------+"
      ]
     },
     "execution_count": 44,
     "metadata": {},
     "output_type": "execute_result"
    }
   ],
   "source": [
    "combined_df.filter((F.col('land_area').isNotNull() == True) &\\\n",
    "                   (F.col('APT_LVL').isNotNull() == True)).limit(20)"
   ]
  },
  {
   "cell_type": "code",
   "execution_count": null,
   "metadata": {},
   "outputs": [],
   "source": []
  },
  {
   "cell_type": "code",
   "execution_count": 29,
   "metadata": {},
   "outputs": [
    {
     "name": "stderr",
     "output_type": "stream",
     "text": [
      "                                                                                \r"
     ]
    },
    {
     "data": {
      "text/html": [
       "<table border='1'>\n",
       "<tr><th>APT_LVL</th><th>BLDG_NUM</th><th>ROAD_NAME</th><th>ROAD_TYPE</th><th>LOCALITY</th><th>STATE</th><th>POSTCODE</th><th>PR_PFI</th><th>APT_NUM</th><th>area</th></tr>\n",
       "<tr><td>0</td><td>1525</td><td>dandenong</td><td>road</td><td>oakleigh</td><td>VIC</td><td>3166</td><td>425187790</td><td>2</td><td>405.02012569084764</td></tr>\n",
       "<tr><td>0</td><td>1525</td><td>dandenong</td><td>road</td><td>oakleigh</td><td>VIC</td><td>3166</td><td>425187789</td><td>3</td><td>405.02012569084764</td></tr>\n",
       "<tr><td>0</td><td>1525</td><td>dandenong</td><td>road</td><td>oakleigh</td><td>VIC</td><td>3166</td><td>425187791</td><td>1</td><td>405.02012569084764</td></tr>\n",
       "<tr><td>null</td><td>1525</td><td>dandenong</td><td>road</td><td>oakleigh</td><td>VIC</td><td>3166</td><td>424086139</td><td>null</td><td>1215.060377072543</td></tr>\n",
       "</table>\n"
      ],
      "text/plain": [
       "+-------+--------+---------+---------+--------+-----+--------+---------+-------+------------------+\n",
       "|APT_LVL|BLDG_NUM|ROAD_NAME|ROAD_TYPE|LOCALITY|STATE|POSTCODE|   PR_PFI|APT_NUM|              area|\n",
       "+-------+--------+---------+---------+--------+-----+--------+---------+-------+------------------+\n",
       "|      0|    1525|dandenong|     road|oakleigh|  VIC|    3166|425187790|      2|405.02012569084764|\n",
       "|      0|    1525|dandenong|     road|oakleigh|  VIC|    3166|425187789|      3|405.02012569084764|\n",
       "|      0|    1525|dandenong|     road|oakleigh|  VIC|    3166|425187791|      1|405.02012569084764|\n",
       "|   null|    1525|dandenong|     road|oakleigh|  VIC|    3166|424086139|   null| 1215.060377072543|\n",
       "+-------+--------+---------+---------+--------+-----+--------+---------+-------+------------------+"
      ]
     },
     "execution_count": 29,
     "metadata": {},
     "output_type": "execute_result"
    }
   ],
   "source": [
    "all_properties.filter((F.col(\"ROAD_NAME\") == 'dandenong') &\\\n",
    "                                (F.col(\"ROAD_TYPE\") == 'road') &\\\n",
    "                                (F.col(\"BLDG_NUM\") == '1525')&\\\n",
    "                                (F.col(\"LOCALITY\") == 'oakleigh') ).limit(20)"
   ]
  }
 ],
 "metadata": {
  "kernelspec": {
   "display_name": "Python 3",
   "language": "python",
   "name": "python3"
  },
  "language_info": {
   "codemirror_mode": {
    "name": "ipython",
    "version": 3
   },
   "file_extension": ".py",
   "mimetype": "text/x-python",
   "name": "python",
   "nbconvert_exporter": "python",
   "pygments_lexer": "ipython3",
   "version": "3.10.12"
  },
  "orig_nbformat": 4
 },
 "nbformat": 4,
 "nbformat_minor": 2
}
