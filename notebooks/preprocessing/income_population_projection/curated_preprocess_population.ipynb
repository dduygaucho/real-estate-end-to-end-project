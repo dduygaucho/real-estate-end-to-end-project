{
 "cells": [
  {
   "cell_type": "markdown",
   "metadata": {},
   "source": [
    "# Curated Preprocessing for Population Data"
   ]
  },
  {
   "cell_type": "code",
   "execution_count": 1,
   "metadata": {},
   "outputs": [],
   "source": [
    "import pandas as pd"
   ]
  },
  {
   "cell_type": "code",
   "execution_count": 2,
   "metadata": {},
   "outputs": [],
   "source": [
    "LANDING_DATA_DIR = \"../../../data/landing\"\n",
    "RAW_DATA_DIR = \"../../../data/raw\"\n",
    "CURATED_DATA_DIR = \"../../../data/curated\""
   ]
  },
  {
   "cell_type": "code",
   "execution_count": 3,
   "metadata": {},
   "outputs": [],
   "source": [
    "pop = pd.read_csv(f\"{RAW_DATA_DIR}/population.csv\")"
   ]
  },
  {
   "cell_type": "markdown",
   "metadata": {},
   "source": [
    "## Remove Rows not in Victoria"
   ]
  },
  {
   "cell_type": "code",
   "execution_count": 4,
   "metadata": {},
   "outputs": [
    {
     "data": {
      "text/plain": [
       "array(['New South Wales', 'Victoria', 'Queensland', 'South Australia',\n",
       "       'Western Australia', 'Tasmania', 'Northern Territory',\n",
       "       'Australian Capital Territory', 'Other Territories'], dtype=object)"
      ]
     },
     "execution_count": 4,
     "metadata": {},
     "output_type": "execute_result"
    }
   ],
   "source": [
    "pop[\"S/T name\"].unique()"
   ]
  },
  {
   "cell_type": "code",
   "execution_count": 5,
   "metadata": {},
   "outputs": [],
   "source": [
    "# Remove rows unrelated to Victoria\n",
    "pop_vic = pop[pop[\"S/T name\"].str.contains(\"Victoria\") == True]"
   ]
  },
  {
   "cell_type": "code",
   "execution_count": 6,
   "metadata": {},
   "outputs": [
    {
     "data": {
      "text/html": [
       "<div>\n",
       "<style scoped>\n",
       "    .dataframe tbody tr th:only-of-type {\n",
       "        vertical-align: middle;\n",
       "    }\n",
       "\n",
       "    .dataframe tbody tr th {\n",
       "        vertical-align: top;\n",
       "    }\n",
       "\n",
       "    .dataframe thead th {\n",
       "        text-align: right;\n",
       "    }\n",
       "</style>\n",
       "<table border=\"1\" class=\"dataframe\">\n",
       "  <thead>\n",
       "    <tr style=\"text-align: right;\">\n",
       "      <th></th>\n",
       "      <th>S/T name</th>\n",
       "      <th>SA2 code</th>\n",
       "      <th>SA2 name</th>\n",
       "      <th>2001</th>\n",
       "      <th>2002</th>\n",
       "      <th>2003</th>\n",
       "      <th>2004</th>\n",
       "      <th>2005</th>\n",
       "      <th>2006</th>\n",
       "      <th>2007</th>\n",
       "      <th>...</th>\n",
       "      <th>2013</th>\n",
       "      <th>2014</th>\n",
       "      <th>2015</th>\n",
       "      <th>2016</th>\n",
       "      <th>2017</th>\n",
       "      <th>2018</th>\n",
       "      <th>2019</th>\n",
       "      <th>2020</th>\n",
       "      <th>2021</th>\n",
       "      <th>2022</th>\n",
       "    </tr>\n",
       "  </thead>\n",
       "  <tbody>\n",
       "    <tr>\n",
       "      <th>642</th>\n",
       "      <td>Victoria</td>\n",
       "      <td>201011001.0</td>\n",
       "      <td>Alfredton</td>\n",
       "      <td>5756</td>\n",
       "      <td>6092</td>\n",
       "      <td>6293</td>\n",
       "      <td>6480</td>\n",
       "      <td>6648</td>\n",
       "      <td>6761</td>\n",
       "      <td>7034</td>\n",
       "      <td>...</td>\n",
       "      <td>9714</td>\n",
       "      <td>10338</td>\n",
       "      <td>11039</td>\n",
       "      <td>11852</td>\n",
       "      <td>12639</td>\n",
       "      <td>13520</td>\n",
       "      <td>14408</td>\n",
       "      <td>15472</td>\n",
       "      <td>16823</td>\n",
       "      <td>17962</td>\n",
       "    </tr>\n",
       "    <tr>\n",
       "      <th>643</th>\n",
       "      <td>Victoria</td>\n",
       "      <td>201011002.0</td>\n",
       "      <td>Ballarat</td>\n",
       "      <td>11497</td>\n",
       "      <td>11708</td>\n",
       "      <td>12015</td>\n",
       "      <td>12189</td>\n",
       "      <td>12269</td>\n",
       "      <td>12356</td>\n",
       "      <td>12408</td>\n",
       "      <td>...</td>\n",
       "      <td>12352</td>\n",
       "      <td>12327</td>\n",
       "      <td>12300</td>\n",
       "      <td>12301</td>\n",
       "      <td>12261</td>\n",
       "      <td>12237</td>\n",
       "      <td>12311</td>\n",
       "      <td>12183</td>\n",
       "      <td>12076</td>\n",
       "      <td>11921</td>\n",
       "    </tr>\n",
       "    <tr>\n",
       "      <th>644</th>\n",
       "      <td>Victoria</td>\n",
       "      <td>201011005.0</td>\n",
       "      <td>Buninyong</td>\n",
       "      <td>5320</td>\n",
       "      <td>5399</td>\n",
       "      <td>5557</td>\n",
       "      <td>5620</td>\n",
       "      <td>5857</td>\n",
       "      <td>6037</td>\n",
       "      <td>6131</td>\n",
       "      <td>...</td>\n",
       "      <td>6984</td>\n",
       "      <td>7082</td>\n",
       "      <td>7191</td>\n",
       "      <td>7311</td>\n",
       "      <td>7407</td>\n",
       "      <td>7413</td>\n",
       "      <td>7452</td>\n",
       "      <td>7369</td>\n",
       "      <td>7232</td>\n",
       "      <td>7243</td>\n",
       "    </tr>\n",
       "    <tr>\n",
       "      <th>645</th>\n",
       "      <td>Victoria</td>\n",
       "      <td>201011006.0</td>\n",
       "      <td>Delacombe</td>\n",
       "      <td>4154</td>\n",
       "      <td>4225</td>\n",
       "      <td>4371</td>\n",
       "      <td>4465</td>\n",
       "      <td>4704</td>\n",
       "      <td>5041</td>\n",
       "      <td>5206</td>\n",
       "      <td>...</td>\n",
       "      <td>6267</td>\n",
       "      <td>6583</td>\n",
       "      <td>6846</td>\n",
       "      <td>7195</td>\n",
       "      <td>7617</td>\n",
       "      <td>8174</td>\n",
       "      <td>8876</td>\n",
       "      <td>9736</td>\n",
       "      <td>10640</td>\n",
       "      <td>11782</td>\n",
       "    </tr>\n",
       "    <tr>\n",
       "      <th>646</th>\n",
       "      <td>Victoria</td>\n",
       "      <td>201011007.0</td>\n",
       "      <td>Smythes Creek</td>\n",
       "      <td>3317</td>\n",
       "      <td>3378</td>\n",
       "      <td>3411</td>\n",
       "      <td>3473</td>\n",
       "      <td>3508</td>\n",
       "      <td>3542</td>\n",
       "      <td>3594</td>\n",
       "      <td>...</td>\n",
       "      <td>3914</td>\n",
       "      <td>3945</td>\n",
       "      <td>3966</td>\n",
       "      <td>3990</td>\n",
       "      <td>4002</td>\n",
       "      <td>4040</td>\n",
       "      <td>4109</td>\n",
       "      <td>4148</td>\n",
       "      <td>4213</td>\n",
       "      <td>4218</td>\n",
       "    </tr>\n",
       "  </tbody>\n",
       "</table>\n",
       "<p>5 rows × 25 columns</p>\n",
       "</div>"
      ],
      "text/plain": [
       "     S/T name     SA2 code       SA2 name   2001   2002   2003   2004   2005  \\\n",
       "642  Victoria  201011001.0      Alfredton   5756   6092   6293   6480   6648   \n",
       "643  Victoria  201011002.0       Ballarat  11497  11708  12015  12189  12269   \n",
       "644  Victoria  201011005.0      Buninyong   5320   5399   5557   5620   5857   \n",
       "645  Victoria  201011006.0      Delacombe   4154   4225   4371   4465   4704   \n",
       "646  Victoria  201011007.0  Smythes Creek   3317   3378   3411   3473   3508   \n",
       "\n",
       "      2006   2007  ...   2013   2014   2015   2016   2017   2018   2019  \\\n",
       "642   6761   7034  ...   9714  10338  11039  11852  12639  13520  14408   \n",
       "643  12356  12408  ...  12352  12327  12300  12301  12261  12237  12311   \n",
       "644   6037   6131  ...   6984   7082   7191   7311   7407   7413   7452   \n",
       "645   5041   5206  ...   6267   6583   6846   7195   7617   8174   8876   \n",
       "646   3542   3594  ...   3914   3945   3966   3990   4002   4040   4109   \n",
       "\n",
       "      2020   2021   2022  \n",
       "642  15472  16823  17962  \n",
       "643  12183  12076  11921  \n",
       "644   7369   7232   7243  \n",
       "645   9736  10640  11782  \n",
       "646   4148   4213   4218  \n",
       "\n",
       "[5 rows x 25 columns]"
      ]
     },
     "execution_count": 6,
     "metadata": {},
     "output_type": "execute_result"
    }
   ],
   "source": [
    "pop_vic.head()"
   ]
  },
  {
   "cell_type": "markdown",
   "metadata": {},
   "source": [
    "## Transpose Year Columns"
   ]
  },
  {
   "cell_type": "code",
   "execution_count": 7,
   "metadata": {},
   "outputs": [],
   "source": [
    "# Define columns to keep and columns to convert to rows\n",
    "col_keep = [\"S/T name\", \"SA2 code\", \"SA2 name\"]\n",
    "\n",
    "col_convert = []\n",
    "for col in list(pop_vic.columns):\n",
    "    if col not in col_keep:\n",
    "        col_convert.append(col)\n",
    "        \n",
    "# col_keep = col_keep[1:3]\n",
    "\n",
    "# Transpose year columns\n",
    "pop_transposed = pop_vic.melt(id_vars = col_keep, value_vars = col_convert,\n",
    "                              var_name = \"Year\", value_name = \"Population\"\n",
    ")"
   ]
  },
  {
   "cell_type": "markdown",
   "metadata": {},
   "source": [
    "## Output to CSV in Curated data directory"
   ]
  },
  {
   "cell_type": "code",
   "execution_count": 8,
   "metadata": {},
   "outputs": [],
   "source": [
    "pop_transposed.to_csv(f\"{CURATED_DATA_DIR}/population.csv\", index = False)"
   ]
  }
 ],
 "metadata": {
  "kernelspec": {
   "display_name": "Python 3",
   "language": "python",
   "name": "python3"
  },
  "language_info": {
   "codemirror_mode": {
    "name": "ipython",
    "version": 3
   },
   "file_extension": ".py",
   "mimetype": "text/x-python",
   "name": "python",
   "nbconvert_exporter": "python",
   "pygments_lexer": "ipython3",
   "version": "3.10.12"
  },
  "orig_nbformat": 4
 },
 "nbformat": 4,
 "nbformat_minor": 2
}
