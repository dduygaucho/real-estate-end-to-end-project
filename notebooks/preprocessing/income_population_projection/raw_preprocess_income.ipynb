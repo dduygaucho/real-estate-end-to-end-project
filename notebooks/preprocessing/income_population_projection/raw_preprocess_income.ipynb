{
 "cells": [
  {
   "cell_type": "markdown",
   "metadata": {},
   "source": [
    "# Raw Preprocessing for Income Data"
   ]
  },
  {
   "cell_type": "code",
   "execution_count": 1,
   "metadata": {},
   "outputs": [],
   "source": [
    "import pandas as pd"
   ]
  },
  {
   "cell_type": "code",
   "execution_count": 2,
   "metadata": {},
   "outputs": [],
   "source": [
    "LANDING_DATA_DIR = \"../../../data/landing\"\n",
    "RAW_DATA_DIR = \"../../../data/raw\"\n",
    "CURATED_DATA_DIR = \"../../../data/curated\"\n"
   ]
  },
  {
   "cell_type": "code",
   "execution_count": 3,
   "metadata": {},
   "outputs": [],
   "source": [
    "income = pd.read_excel(io = f\"{LANDING_DATA_DIR}/historical_income_data.xlsx\", \n",
    "                       sheet_name = \"Table 1.4\", skiprows = 6)"
   ]
  },
  {
   "cell_type": "markdown",
   "metadata": {},
   "source": [
    "## Remove Unnecessary Columns\n",
    "**Columns to keep:** All columns associated with Median Income\n",
    "- `2015-16.3`\n",
    "- `2016-17.3`\n",
    "- `2017-18.3`\n",
    "- `2018-19.3`\n",
    "- `2019-20.3`\n"
   ]
  },
  {
   "cell_type": "code",
   "execution_count": 4,
   "metadata": {},
   "outputs": [
    {
     "name": "stdout",
     "output_type": "stream",
     "text": [
      "(2300, 7)\n"
     ]
    }
   ],
   "source": [
    "# Remove specified columns\n",
    "keep_cols = [\"SA2\", \"SA2 NAME\", \"2015-16.3\", \"2016-17.3\", \"2017-18.3\", \n",
    "             \"2018-19.3\", \"2019-20.3\"]\n",
    "remove_cols = []\n",
    "\n",
    "for col in list(income.columns):\n",
    "    if (col not in keep_cols):\n",
    "        remove_cols.append(col)\n",
    "\n",
    "median_income = income.drop(columns = remove_cols)\n",
    "print(median_income.shape)"
   ]
  },
  {
   "cell_type": "code",
   "execution_count": 5,
   "metadata": {},
   "outputs": [],
   "source": [
    "# median_income[median_income['SA2 NAME'].str.contains(\"Point Cook\")]"
   ]
  },
  {
   "cell_type": "code",
   "execution_count": 6,
   "metadata": {},
   "outputs": [
    {
     "data": {
      "text/html": [
       "<div>\n",
       "<style scoped>\n",
       "    .dataframe tbody tr th:only-of-type {\n",
       "        vertical-align: middle;\n",
       "    }\n",
       "\n",
       "    .dataframe tbody tr th {\n",
       "        vertical-align: top;\n",
       "    }\n",
       "\n",
       "    .dataframe thead th {\n",
       "        text-align: right;\n",
       "    }\n",
       "</style>\n",
       "<table border=\"1\" class=\"dataframe\">\n",
       "  <thead>\n",
       "    <tr style=\"text-align: right;\">\n",
       "      <th></th>\n",
       "      <th>SA2</th>\n",
       "      <th>SA2 NAME</th>\n",
       "      <th>2015-16.3</th>\n",
       "      <th>2016-17.3</th>\n",
       "      <th>2017-18.3</th>\n",
       "      <th>2018-19.3</th>\n",
       "      <th>2019-20.3</th>\n",
       "    </tr>\n",
       "  </thead>\n",
       "  <tbody>\n",
       "    <tr>\n",
       "      <th>0</th>\n",
       "      <td>Australia</td>\n",
       "      <td>NaN</td>\n",
       "      <td>47692</td>\n",
       "      <td>48360</td>\n",
       "      <td>49805</td>\n",
       "      <td>51389</td>\n",
       "      <td>52338</td>\n",
       "    </tr>\n",
       "    <tr>\n",
       "      <th>1</th>\n",
       "      <td>New South Wales</td>\n",
       "      <td>NaN</td>\n",
       "      <td>48085</td>\n",
       "      <td>48700</td>\n",
       "      <td>50153</td>\n",
       "      <td>51818</td>\n",
       "      <td>52849</td>\n",
       "    </tr>\n",
       "    <tr>\n",
       "      <th>2</th>\n",
       "      <td>101021007</td>\n",
       "      <td>Braidwood</td>\n",
       "      <td>39716</td>\n",
       "      <td>41288</td>\n",
       "      <td>42003</td>\n",
       "      <td>41593</td>\n",
       "      <td>44246</td>\n",
       "    </tr>\n",
       "    <tr>\n",
       "      <th>3</th>\n",
       "      <td>101021008</td>\n",
       "      <td>Karabar</td>\n",
       "      <td>55870</td>\n",
       "      <td>57880</td>\n",
       "      <td>59295</td>\n",
       "      <td>61777</td>\n",
       "      <td>62946</td>\n",
       "    </tr>\n",
       "    <tr>\n",
       "      <th>4</th>\n",
       "      <td>101021009</td>\n",
       "      <td>Queanbeyan</td>\n",
       "      <td>54999</td>\n",
       "      <td>55376</td>\n",
       "      <td>57848</td>\n",
       "      <td>60119</td>\n",
       "      <td>61724</td>\n",
       "    </tr>\n",
       "  </tbody>\n",
       "</table>\n",
       "</div>"
      ],
      "text/plain": [
       "               SA2    SA2 NAME 2015-16.3 2016-17.3 2017-18.3 2018-19.3  \\\n",
       "0       Australia          NaN     47692     48360     49805     51389   \n",
       "1  New South Wales         NaN     48085     48700     50153     51818   \n",
       "2        101021007   Braidwood     39716     41288     42003     41593   \n",
       "3        101021008     Karabar     55870     57880     59295     61777   \n",
       "4        101021009  Queanbeyan     54999     55376     57848     60119   \n",
       "\n",
       "  2019-20.3  \n",
       "0     52338  \n",
       "1     52849  \n",
       "2     44246  \n",
       "3     62946  \n",
       "4     61724  "
      ]
     },
     "execution_count": 6,
     "metadata": {},
     "output_type": "execute_result"
    }
   ],
   "source": [
    "median_income.head()"
   ]
  },
  {
   "cell_type": "markdown",
   "metadata": {},
   "source": [
    "## Rename Columns for Year"
   ]
  },
  {
   "cell_type": "code",
   "execution_count": 9,
   "metadata": {},
   "outputs": [],
   "source": [
    "# Rename columns for each year \n",
    "# Columns are named according to year of beginning of financial year\n",
    "# eg. 2015-16 -> 2015\n",
    "rename_dict = {\"2015-16.3\": \"2015\", \"2016-17.3\": \"2016\", \"2017-18.3\": \"2017\",\n",
    "               \"2018-19.3\": \"2018\", \"2019-20.3\": \"2019\"}\n",
    "median_income.rename(columns = rename_dict, inplace = True)"
   ]
  },
  {
   "cell_type": "code",
   "execution_count": 10,
   "metadata": {},
   "outputs": [
    {
     "data": {
      "text/html": [
       "<div>\n",
       "<style scoped>\n",
       "    .dataframe tbody tr th:only-of-type {\n",
       "        vertical-align: middle;\n",
       "    }\n",
       "\n",
       "    .dataframe tbody tr th {\n",
       "        vertical-align: top;\n",
       "    }\n",
       "\n",
       "    .dataframe thead th {\n",
       "        text-align: right;\n",
       "    }\n",
       "</style>\n",
       "<table border=\"1\" class=\"dataframe\">\n",
       "  <thead>\n",
       "    <tr style=\"text-align: right;\">\n",
       "      <th></th>\n",
       "      <th>SA2</th>\n",
       "      <th>SA2 NAME</th>\n",
       "      <th>2015</th>\n",
       "      <th>2016</th>\n",
       "      <th>2017</th>\n",
       "      <th>2018</th>\n",
       "      <th>2019</th>\n",
       "    </tr>\n",
       "  </thead>\n",
       "  <tbody>\n",
       "    <tr>\n",
       "      <th>0</th>\n",
       "      <td>Australia</td>\n",
       "      <td>NaN</td>\n",
       "      <td>47692</td>\n",
       "      <td>48360</td>\n",
       "      <td>49805</td>\n",
       "      <td>51389</td>\n",
       "      <td>52338</td>\n",
       "    </tr>\n",
       "    <tr>\n",
       "      <th>1</th>\n",
       "      <td>New South Wales</td>\n",
       "      <td>NaN</td>\n",
       "      <td>48085</td>\n",
       "      <td>48700</td>\n",
       "      <td>50153</td>\n",
       "      <td>51818</td>\n",
       "      <td>52849</td>\n",
       "    </tr>\n",
       "    <tr>\n",
       "      <th>2</th>\n",
       "      <td>101021007</td>\n",
       "      <td>Braidwood</td>\n",
       "      <td>39716</td>\n",
       "      <td>41288</td>\n",
       "      <td>42003</td>\n",
       "      <td>41593</td>\n",
       "      <td>44246</td>\n",
       "    </tr>\n",
       "    <tr>\n",
       "      <th>3</th>\n",
       "      <td>101021008</td>\n",
       "      <td>Karabar</td>\n",
       "      <td>55870</td>\n",
       "      <td>57880</td>\n",
       "      <td>59295</td>\n",
       "      <td>61777</td>\n",
       "      <td>62946</td>\n",
       "    </tr>\n",
       "    <tr>\n",
       "      <th>4</th>\n",
       "      <td>101021009</td>\n",
       "      <td>Queanbeyan</td>\n",
       "      <td>54999</td>\n",
       "      <td>55376</td>\n",
       "      <td>57848</td>\n",
       "      <td>60119</td>\n",
       "      <td>61724</td>\n",
       "    </tr>\n",
       "  </tbody>\n",
       "</table>\n",
       "</div>"
      ],
      "text/plain": [
       "               SA2    SA2 NAME   2015   2016   2017   2018   2019\n",
       "0       Australia          NaN  47692  48360  49805  51389  52338\n",
       "1  New South Wales         NaN  48085  48700  50153  51818  52849\n",
       "2        101021007   Braidwood  39716  41288  42003  41593  44246\n",
       "3        101021008     Karabar  55870  57880  59295  61777  62946\n",
       "4        101021009  Queanbeyan  54999  55376  57848  60119  61724"
      ]
     },
     "execution_count": 10,
     "metadata": {},
     "output_type": "execute_result"
    }
   ],
   "source": [
    "median_income.head()"
   ]
  },
  {
   "cell_type": "markdown",
   "metadata": {},
   "source": [
    "## Remove Rows with NAs\n",
    "We need to remove rows that do not contain useful information"
   ]
  },
  {
   "cell_type": "code",
   "execution_count": 13,
   "metadata": {},
   "outputs": [
    {
     "data": {
      "text/plain": [
       "SA2          1\n",
       "SA2 NAME    12\n",
       "2015         3\n",
       "2016         3\n",
       "2017         3\n",
       "2018         3\n",
       "2019         3\n",
       "dtype: int64"
      ]
     },
     "execution_count": 13,
     "metadata": {},
     "output_type": "execute_result"
    }
   ],
   "source": [
    "# Number of NA values per column\n",
    "median_income.isna().sum()\n"
   ]
  },
  {
   "cell_type": "code",
   "execution_count": 14,
   "metadata": {},
   "outputs": [
    {
     "data": {
      "text/html": [
       "<div>\n",
       "<style scoped>\n",
       "    .dataframe tbody tr th:only-of-type {\n",
       "        vertical-align: middle;\n",
       "    }\n",
       "\n",
       "    .dataframe tbody tr th {\n",
       "        vertical-align: top;\n",
       "    }\n",
       "\n",
       "    .dataframe thead th {\n",
       "        text-align: right;\n",
       "    }\n",
       "</style>\n",
       "<table border=\"1\" class=\"dataframe\">\n",
       "  <thead>\n",
       "    <tr style=\"text-align: right;\">\n",
       "      <th></th>\n",
       "      <th>SA2</th>\n",
       "      <th>SA2 NAME</th>\n",
       "      <th>2015</th>\n",
       "      <th>2016</th>\n",
       "      <th>2017</th>\n",
       "      <th>2018</th>\n",
       "      <th>2019</th>\n",
       "    </tr>\n",
       "  </thead>\n",
       "  <tbody>\n",
       "    <tr>\n",
       "      <th>0</th>\n",
       "      <td>Australia</td>\n",
       "      <td>NaN</td>\n",
       "      <td>47692</td>\n",
       "      <td>48360</td>\n",
       "      <td>49805</td>\n",
       "      <td>51389</td>\n",
       "      <td>52338</td>\n",
       "    </tr>\n",
       "    <tr>\n",
       "      <th>1</th>\n",
       "      <td>New South Wales</td>\n",
       "      <td>NaN</td>\n",
       "      <td>48085</td>\n",
       "      <td>48700</td>\n",
       "      <td>50153</td>\n",
       "      <td>51818</td>\n",
       "      <td>52849</td>\n",
       "    </tr>\n",
       "    <tr>\n",
       "      <th>578</th>\n",
       "      <td>Victoria</td>\n",
       "      <td>NaN</td>\n",
       "      <td>46984</td>\n",
       "      <td>47709</td>\n",
       "      <td>49266</td>\n",
       "      <td>51027</td>\n",
       "      <td>51996</td>\n",
       "    </tr>\n",
       "    <tr>\n",
       "      <th>1041</th>\n",
       "      <td>Queensland</td>\n",
       "      <td>NaN</td>\n",
       "      <td>46869</td>\n",
       "      <td>47425</td>\n",
       "      <td>48826</td>\n",
       "      <td>50298</td>\n",
       "      <td>51197</td>\n",
       "    </tr>\n",
       "    <tr>\n",
       "      <th>1570</th>\n",
       "      <td>South Australia</td>\n",
       "      <td>NaN</td>\n",
       "      <td>46110</td>\n",
       "      <td>46937</td>\n",
       "      <td>48354</td>\n",
       "      <td>49888</td>\n",
       "      <td>50440</td>\n",
       "    </tr>\n",
       "    <tr>\n",
       "      <th>1743</th>\n",
       "      <td>Western Australia</td>\n",
       "      <td>NaN</td>\n",
       "      <td>52504</td>\n",
       "      <td>51450</td>\n",
       "      <td>52671</td>\n",
       "      <td>54220</td>\n",
       "      <td>55208</td>\n",
       "    </tr>\n",
       "    <tr>\n",
       "      <th>1996</th>\n",
       "      <td>Tasmania</td>\n",
       "      <td>NaN</td>\n",
       "      <td>43833</td>\n",
       "      <td>44437</td>\n",
       "      <td>45546</td>\n",
       "      <td>47352</td>\n",
       "      <td>47909</td>\n",
       "    </tr>\n",
       "    <tr>\n",
       "      <th>2096</th>\n",
       "      <td>Northern Territory</td>\n",
       "      <td>NaN</td>\n",
       "      <td>59466</td>\n",
       "      <td>58669</td>\n",
       "      <td>60636</td>\n",
       "      <td>61517</td>\n",
       "      <td>62010</td>\n",
       "    </tr>\n",
       "    <tr>\n",
       "      <th>2165</th>\n",
       "      <td>Australian Capital Territory</td>\n",
       "      <td>NaN</td>\n",
       "      <td>63061</td>\n",
       "      <td>63038</td>\n",
       "      <td>64332</td>\n",
       "      <td>66594</td>\n",
       "      <td>68325</td>\n",
       "    </tr>\n",
       "    <tr>\n",
       "      <th>2297</th>\n",
       "      <td>NaN</td>\n",
       "      <td>NaN</td>\n",
       "      <td>NaN</td>\n",
       "      <td>NaN</td>\n",
       "      <td>NaN</td>\n",
       "      <td>NaN</td>\n",
       "      <td>NaN</td>\n",
       "    </tr>\n",
       "    <tr>\n",
       "      <th>2298</th>\n",
       "      <td>Totals may not align with the sum of their com...</td>\n",
       "      <td>NaN</td>\n",
       "      <td>NaN</td>\n",
       "      <td>NaN</td>\n",
       "      <td>NaN</td>\n",
       "      <td>NaN</td>\n",
       "      <td>NaN</td>\n",
       "    </tr>\n",
       "    <tr>\n",
       "      <th>2299</th>\n",
       "      <td>np - not published to protect the confidential...</td>\n",
       "      <td>NaN</td>\n",
       "      <td>NaN</td>\n",
       "      <td>NaN</td>\n",
       "      <td>NaN</td>\n",
       "      <td>NaN</td>\n",
       "      <td>NaN</td>\n",
       "    </tr>\n",
       "  </tbody>\n",
       "</table>\n",
       "</div>"
      ],
      "text/plain": [
       "                                                    SA2 SA2 NAME   2015  \\\n",
       "0                                            Australia       NaN  47692   \n",
       "1                                       New South Wales      NaN  48085   \n",
       "578                                            Victoria      NaN  46984   \n",
       "1041                                         Queensland      NaN  46869   \n",
       "1570                                    South Australia      NaN  46110   \n",
       "1743                                  Western Australia      NaN  52504   \n",
       "1996                                           Tasmania      NaN  43833   \n",
       "2096                                 Northern Territory      NaN  59466   \n",
       "2165                       Australian Capital Territory      NaN  63061   \n",
       "2297                                                NaN      NaN    NaN   \n",
       "2298  Totals may not align with the sum of their com...      NaN    NaN   \n",
       "2299  np - not published to protect the confidential...      NaN    NaN   \n",
       "\n",
       "       2016   2017   2018   2019  \n",
       "0     48360  49805  51389  52338  \n",
       "1     48700  50153  51818  52849  \n",
       "578   47709  49266  51027  51996  \n",
       "1041  47425  48826  50298  51197  \n",
       "1570  46937  48354  49888  50440  \n",
       "1743  51450  52671  54220  55208  \n",
       "1996  44437  45546  47352  47909  \n",
       "2096  58669  60636  61517  62010  \n",
       "2165  63038  64332  66594  68325  \n",
       "2297    NaN    NaN    NaN    NaN  \n",
       "2298    NaN    NaN    NaN    NaN  \n",
       "2299    NaN    NaN    NaN    NaN  "
      ]
     },
     "execution_count": 14,
     "metadata": {},
     "output_type": "execute_result"
    }
   ],
   "source": [
    "# Create a boolean mask for NA values\n",
    "na = median_income.isna().any(axis=1)\n",
    "\n",
    "# Filter the dataframe using the boolean mask\n",
    "rows_with_na = median_income[na].index.tolist()\n",
    "\n",
    "# Show rows with NA values\n",
    "median_income.iloc[rows_with_na, :]"
   ]
  },
  {
   "cell_type": "markdown",
   "metadata": {},
   "source": [
    "At this stage, only rows 2297-2299 can be removed"
   ]
  },
  {
   "cell_type": "code",
   "execution_count": 15,
   "metadata": {},
   "outputs": [],
   "source": [
    "# Remove rows 2297-2299\n",
    "median_income.drop(index = [2297, 2298, 2299], inplace = True)"
   ]
  },
  {
   "cell_type": "code",
   "execution_count": 16,
   "metadata": {},
   "outputs": [
    {
     "data": {
      "text/plain": [
       "SA2         0\n",
       "SA2 NAME    9\n",
       "2015        0\n",
       "2016        0\n",
       "2017        0\n",
       "2018        0\n",
       "2019        0\n",
       "dtype: int64"
      ]
     },
     "execution_count": 16,
     "metadata": {},
     "output_type": "execute_result"
    }
   ],
   "source": [
    "# Check that NA removal for specified rows was successful\n",
    "median_income.isna().sum()"
   ]
  },
  {
   "cell_type": "code",
   "execution_count": 17,
   "metadata": {},
   "outputs": [
    {
     "data": {
      "text/plain": [
       "(2297, 7)"
      ]
     },
     "execution_count": 17,
     "metadata": {},
     "output_type": "execute_result"
    }
   ],
   "source": [
    "median_income.shape"
   ]
  },
  {
   "cell_type": "markdown",
   "metadata": {},
   "source": [
    "## Output to CSV in Raw data directory"
   ]
  },
  {
   "cell_type": "code",
   "execution_count": 18,
   "metadata": {},
   "outputs": [],
   "source": [
    "median_income.to_csv(f\"{RAW_DATA_DIR}/income.csv\", index = False)"
   ]
  }
 ],
 "metadata": {
  "kernelspec": {
   "display_name": "Python 3",
   "language": "python",
   "name": "python3"
  },
  "language_info": {
   "codemirror_mode": {
    "name": "ipython",
    "version": 3
   },
   "file_extension": ".py",
   "mimetype": "text/x-python",
   "name": "python",
   "nbconvert_exporter": "python",
   "pygments_lexer": "ipython3",
   "version": "3.9.15"
  },
  "orig_nbformat": 4
 },
 "nbformat": 4,
 "nbformat_minor": 2
}
