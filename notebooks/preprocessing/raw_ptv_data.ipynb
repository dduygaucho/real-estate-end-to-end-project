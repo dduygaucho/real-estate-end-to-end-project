{
 "cells": [
  {
   "cell_type": "markdown",
   "metadata": {},
   "source": [
    "# Raw preprocessing of PTV data\n",
    "This notebook preprocesses the landing PTV data, outputting the cleaned dataset to the `../data/raw/ptv` directory"
   ]
  },
  {
   "cell_type": "code",
   "execution_count": 1,
   "metadata": {},
   "outputs": [],
   "source": [
    "# Import dependencies\n",
    "import pandas as pd\n",
    "import geopandas as gpd\n",
    "from shapely.geometry import Point\n",
    "import os"
   ]
  },
  {
   "cell_type": "code",
   "execution_count": 2,
   "metadata": {},
   "outputs": [],
   "source": [
    "LANDING_DATA_DIR_PTV = \"../../data/landing/ptv\"\n",
    "RAW_DATA_DIR_PTV = \"../../data/raw/ptv\"\n",
    "filename = \"stops.txt\"\n",
    "folders = [\"reg_trains\", \"metro_trains\", \"metro_trams\", \"metro_buses\", \n",
    "           \"reg_coaches\", \"reg_buses\"]"
   ]
  },
  {
   "cell_type": "code",
   "execution_count": 3,
   "metadata": {},
   "outputs": [],
   "source": [
    "# Load text files with stop information (eg. bus stops)\n",
    "ptv_vars = []\n",
    "\n",
    "for folder in folders:\n",
    "    var_name = f\"{folder}_stops\"\n",
    "    ptv_vars.append(var_name)\n",
    "\n",
    "    globals()[var_name] = pd.read_csv(\n",
    "        f\"{LANDING_DATA_DIR_PTV}/{folder}/{filename}\", header=0\n",
    "    )"
   ]
  },
  {
   "cell_type": "markdown",
   "metadata": {},
   "source": [
    "## Transform text files to shape files"
   ]
  },
  {
   "cell_type": "code",
   "execution_count": 4,
   "metadata": {},
   "outputs": [],
   "source": [
    "# Create `ptv` folder if doesn't exist\n",
    "if not (os.path.exists(RAW_DATA_DIR_PTV)):\n",
    "    os.makedirs(RAW_DATA_DIR_PTV)"
   ]
  },
  {
   "cell_type": "code",
   "execution_count": 5,
   "metadata": {},
   "outputs": [],
   "source": [
    "# For each ptv text file\n",
    "for var_name in ptv_vars:\n",
    "    df = globals()[var_name]\n",
    "\n",
    "    location = []\n",
    "\n",
    "    for row in range(len(df)):\n",
    "        \n",
    "        # Create point object and add to list (longitude = x, latitude = y)\n",
    "        location.append(Point(df[\"stop_lon\"][row], df[\"stop_lat\"][row]))\n",
    "\n",
    "    # Add new column to dataframe\n",
    "    df[\"location\"] = location\n",
    "\n",
    "    # Write to shapefile and save in `raw` data directory\n",
    "    df = gpd.GeoDataFrame(df, geometry=\"location\")\n",
    "    df.to_file(f\"{RAW_DATA_DIR_PTV}/{var_name}.shp\", driver=\"ESRI Shapefile\")"
   ]
  }
 ],
 "metadata": {
  "kernelspec": {
   "display_name": "Python 3",
   "language": "python",
   "name": "python3"
  },
  "language_info": {
   "codemirror_mode": {
    "name": "ipython",
    "version": 3
   },
   "file_extension": ".py",
   "mimetype": "text/x-python",
   "name": "python",
   "nbconvert_exporter": "python",
   "pygments_lexer": "ipython3",
   "version": "3.9.15"
  },
  "orig_nbformat": 4
 },
 "nbformat": 4,
 "nbformat_minor": 2
}
