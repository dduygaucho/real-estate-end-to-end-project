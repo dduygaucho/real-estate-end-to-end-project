{
 "cells": [
  {
   "cell_type": "markdown",
   "metadata": {},
   "source": [
    "# Raw Preprocessing for Real Estate Data\n",
    "This notebook transforms the landing real estate data to its raw form, outputting the final dataframe to the `raw` data directory"
   ]
  },
  {
   "cell_type": "code",
   "execution_count": 1,
   "metadata": {},
   "outputs": [],
   "source": [
    "# Import dependencies\n",
    "import pandas as pd\n",
    "import re\n",
    "import numpy as np\n",
    "import ast\n",
    "import geopy"
   ]
  },
  {
   "cell_type": "code",
   "execution_count": 2,
   "metadata": {},
   "outputs": [
    {
     "data": {
      "text/plain": [
       "Unnamed: 0           12227\n",
       "name                 12227\n",
       "cost_text            12227\n",
       "coordinates          12227\n",
       "rooms                12227\n",
       "parking              12227\n",
       "property_type        12117\n",
       "desc                 12226\n",
       "property_features    12227\n",
       "internal_area          274\n",
       "land_area              698\n",
       "dtype: int64"
      ]
     },
     "execution_count": 2,
     "metadata": {},
     "output_type": "execute_result"
    }
   ],
   "source": [
    "# Import Real Estate Data\n",
    "LANDING_DATA_DIR = f\"../../data/landing\"\n",
    "RAW_DATA_DIR = f\"../../data/raw\"\n",
    "file_path = f'{LANDING_DATA_DIR}/domain_scraped_data (1).csv'\n",
    "df = pd.read_csv(file_path)\n",
    "df.count()"
   ]
  },
  {
   "cell_type": "markdown",
   "metadata": {},
   "source": [
    "## Reformat columns "
   ]
  },
  {
   "cell_type": "code",
   "execution_count": 3,
   "metadata": {},
   "outputs": [],
   "source": [
    "#Rename Link Column\n",
    "df = df.rename(columns={'Unnamed: 0': 'listing_link'})\n",
    "\n",
    "#Rename Address Column\n",
    "df = df.rename(columns={'name': 'address'})"
   ]
  },
  {
   "cell_type": "code",
   "execution_count": 4,
   "metadata": {},
   "outputs": [
    {
     "name": "stdout",
     "output_type": "stream",
     "text": [
      "Number of Duplicate Rows: 0\n"
     ]
    }
   ],
   "source": [
    "# Check for duplicates\n",
    "duplicate_rows = df[df.duplicated()]\n",
    "num_duplicates = len(duplicate_rows)\n",
    "\n",
    "# Print the number of duplicate rows\n",
    "print(\"Number of Duplicate Rows:\", num_duplicates)"
   ]
  },
  {
   "cell_type": "markdown",
   "metadata": {},
   "source": [
    "## Price extraction\n",
    "The cost is split into price per week, month and year columns using RegEx."
   ]
  },
  {
   "cell_type": "markdown",
   "metadata": {},
   "source": [
    "### Define Functions"
   ]
  },
  {
   "cell_type": "code",
   "execution_count": 5,
   "metadata": {},
   "outputs": [],
   "source": [
    "def extract_price(text):\n",
    "    \"\"\"\n",
    "    Function extracts numeric values from the provided text\n",
    "\n",
    "    Args:\n",
    "        text (string): the text from which numeric values are to be extracted\n",
    "\n",
    "    Returns:\n",
    "        int: the numeric value(s) from the provided text\n",
    "    \"\"\"\n",
    "    \n",
    "    # Remove commas from the text\n",
    "    text = text.replace(',', '')\n",
    "    \n",
    "    match = re.search(r'\\d+', text)\n",
    "    if match:\n",
    "        return int(match.group())\n",
    "    else:\n",
    "        return None\n",
    "\n",
    "def extract_price_with_month(text):\n",
    "    \"\"\"\n",
    "    Function extracts the price with month\n",
    "\n",
    "    Args:\n",
    "        text (str): the text from which the price is to be extracted\n",
    "    \n",
    "    Returns:\n",
    "        int: the price within the provided string\n",
    "    \"\"\"\n",
    "    \n",
    "    # Remove commas from the text\n",
    "    text = text.replace(',', '')\n",
    "    \n",
    "    match = re.findall(r'\\d+', text)\n",
    "    if match:\n",
    "        if len(match) >= 2:\n",
    "            num_lst = [float(x) for x in match]\n",
    "\n",
    "            if (min(num_lst) < 8 and \n",
    "                ('week' in text or 'w' in text or 'pw' in text)):\n",
    "                return max(num_lst) * 52 / 12\n",
    "            return max(num_lst)    \n",
    "        return int(match[0])\n",
    "    else:\n",
    "        return None\n",
    "\n",
    "def extract_price_with_week(text):\n",
    "    \"\"\"\n",
    "    Function extracts the price, handling cases with both 'week' and 'month' \n",
    "    in the description as weekly prices.\n",
    "\n",
    "    Args:\n",
    "        text (str): the text from which the price is to be extracted\n",
    "    \n",
    "    Returns:\n",
    "        int: the price within the provided string\n",
    "    \"\"\"\n",
    "    \n",
    "    match = re.search(r'\\d+', text)\n",
    "    if match:\n",
    "        return int(match.group())\n",
    "    else:\n",
    "        return None"
   ]
  },
  {
   "cell_type": "markdown",
   "metadata": {},
   "source": [
    "### Apply to data"
   ]
  },
  {
   "cell_type": "code",
   "execution_count": 6,
   "metadata": {},
   "outputs": [],
   "source": [
    "# Apply the function to create 'price_per_week', 'price_per_year', and \n",
    "# 'price_per_month' columns\n",
    "df['price_per_year'] = df['cost_text'].apply(\n",
    "    lambda x: extract_price(x) if \n",
    "    re.search(r'(annually|p\\.a\\.|year|\\bpa\\b|p\\.a)', x, re.IGNORECASE) \n",
    "    else None\n",
    ")\n",
    "df['price_per_month'] = df['cost_text'].apply(\n",
    "    lambda x: extract_price_with_month(x) if\n",
    "    re.search(r'(month|mth|pcm|\\bmo\\b)', x, re.IGNORECASE) else None\n",
    ")\n",
    "\n",
    "df['price_per_week'] = df['cost_text'].apply(\n",
    "    lambda x: extract_price_with_week(x) \n",
    "    if re.search(r'week', x, re.IGNORECASE) and \n",
    "    re.search(r'month', x, re.IGNORECASE) else None\n",
    ")\n",
    "\n",
    "# Check if all 'price_per' columns are empty\n",
    "all_price_columns_empty = df[['price_per_year', 'price_per_month']]. \\\n",
    "    isna().all(axis=1)\n",
    "\n",
    "# Fill 'price_per_week' with the price if all 'price_per' columns are empty\n",
    "df['price_per_week'] = df.apply(lambda row: extract_price(row['cost_text']) \n",
    "                                if all_price_columns_empty[row.name] \n",
    "                                else None, axis=1)"
   ]
  },
  {
   "cell_type": "code",
   "execution_count": 7,
   "metadata": {},
   "outputs": [
    {
     "data": {
      "text/plain": [
       "listing_link         12227\n",
       "address              12227\n",
       "cost_text            12227\n",
       "coordinates          12227\n",
       "rooms                12227\n",
       "parking              12227\n",
       "property_type        12117\n",
       "desc                 12226\n",
       "property_features    12227\n",
       "internal_area          274\n",
       "land_area              698\n",
       "price_per_year           5\n",
       "price_per_month        608\n",
       "price_per_week       11206\n",
       "dtype: int64"
      ]
     },
     "execution_count": 7,
     "metadata": {},
     "output_type": "execute_result"
    }
   ],
   "source": [
    "df.count()"
   ]
  },
  {
   "cell_type": "code",
   "execution_count": 8,
   "metadata": {},
   "outputs": [],
   "source": [
    "# Save current dataframe into raw data folder \n",
    "file_path = f'{RAW_DATA_DIR}/current_realestate_data.csv'\n",
    "df.to_csv(file_path, index=False)"
   ]
  },
  {
   "cell_type": "markdown",
   "metadata": {},
   "source": [
    "## Check Reasonability of Rent Prices\n",
    "We must check whether rent prices are witin a reasonable range or not."
   ]
  },
  {
   "cell_type": "code",
   "execution_count": 9,
   "metadata": {},
   "outputs": [
    {
     "name": "stdout",
     "output_type": "stream",
     "text": [
      "Distinct values in weekly\n",
      "[           nan 2.00000000e+00 4.60000000e+01 4.77796377e+08\n",
      " 4.00000000e+01 1.00000000e+00 2.80000000e+01 3.20000000e+01\n",
      " 2.50000000e+01 3.30000000e+01 4.00000000e+00 3.40000000e+01]\n",
      "Distinct values in 'monthly\n",
      "[nan 40.]\n",
      "Distinct values in 'yearly\n",
      "[nan]\n"
     ]
    }
   ],
   "source": [
    "# Define the reasonable range\n",
    "min_rent = 50\n",
    "max_rent = 5000000\n",
    "\n",
    "# Check if rent price column values are outside the reasonable range\n",
    "invalid_weekly_rent= ~((df['price_per_week'] >= min_rent) & \n",
    "                       (df['price_per_week'] <= max_rent))\n",
    "invalid_monthly_rent= ~((df['price_per_month'] >= min_rent) & \n",
    "                        (df['price_per_month'] <= max_rent))\n",
    "invalid_yearly_rent= ~((df['price_per_year'] >= min_rent) & \n",
    "                       (df['price_per_year'] <= max_rent))\n",
    "\n",
    "# Filter the DataFrame to get rows with invalid ages\n",
    "invalid_weekly_rent_df = df[invalid_weekly_rent]\n",
    "invalid_monthly_rent_df = df[invalid_monthly_rent]\n",
    "invalid_yearly_rent_df = df[invalid_yearly_rent]\n",
    "\n",
    "# Get distinct values from invalid entries\n",
    "distinct_values_weekly = invalid_weekly_rent_df['price_per_week'].unique()\n",
    "distinct_values_monthly = invalid_monthly_rent_df['price_per_month'].unique()\n",
    "distinct_values_yearly = invalid_yearly_rent_df['price_per_year'].unique()\n",
    "\n",
    "# Print the distinct values\n",
    "print(\"Distinct values in weekly\")\n",
    "print(distinct_values_weekly)\n",
    "print(\"Distinct values in 'monthly\")\n",
    "print(distinct_values_monthly)\n",
    "print(\"Distinct values in 'yearly\")\n",
    "print(distinct_values_yearly)"
   ]
  },
  {
   "cell_type": "markdown",
   "metadata": {},
   "source": [
    "## Convert Area to Number"
   ]
  },
  {
   "cell_type": "code",
   "execution_count": 10,
   "metadata": {},
   "outputs": [],
   "source": [
    "# Define function\n",
    "def extract_numeric_area(area_text):\n",
    "    \"\"\"\n",
    "    Function extracts numeric values from the `Area` column\n",
    "\n",
    "    Args:\n",
    "        area_text (str): the string from which numeric values must be extracted\n",
    "\n",
    "    Returns:\n",
    "        int: the number extracted from the string\n",
    "    \"\"\"\n",
    "    \n",
    "    if pd.notna(area_text):\n",
    "        digits = ''.join(filter(str.isdigit, area_text))\n",
    "        if digits:\n",
    "            return int(digits)\n",
    "\n",
    "    return None\n",
    "\n",
    "# Apply the function to create a new 'numeric_area' column\n",
    "df['numeric_area'] = df['internal_area'].map(extract_numeric_area)"
   ]
  },
  {
   "cell_type": "markdown",
   "metadata": {},
   "source": [
    "## Determine Validity of Postcodes"
   ]
  },
  {
   "cell_type": "code",
   "execution_count": 11,
   "metadata": {},
   "outputs": [
    {
     "name": "stdout",
     "output_type": "stream",
     "text": [
      "Distinct Invalid Postcodes:\n",
      "[]\n"
     ]
    }
   ],
   "source": [
    "# Create postcode column\n",
    "df['postcode'] = df['address'].str.extract(r'(\\d{4})$')\n",
    "df.head()\n",
    "\n",
    "# Check if the 'postcode' column values consist of four digits\n",
    "valid_postcodes_mask = df['postcode'].str.match(r'^\\d{4}$')\n",
    "\n",
    "# Create a new DataFrame with only rows where the postcode is invalid\n",
    "invalid_postcodes_df = df[~valid_postcodes_mask]\n",
    "\n",
    "# Get the distinct invalid postcodes\n",
    "distinct_invalid_postcodes = invalid_postcodes_df['postcode'].unique()\n",
    "\n",
    "# Print the distinct invalid postcodes\n",
    "print(\"Distinct Invalid Postcodes:\")\n",
    "print(distinct_invalid_postcodes)"
   ]
  },
  {
   "cell_type": "markdown",
   "metadata": {},
   "source": [
    "## Check Validity of Area"
   ]
  },
  {
   "cell_type": "code",
   "execution_count": 12,
   "metadata": {},
   "outputs": [
    {
     "name": "stdout",
     "output_type": "stream",
     "text": [
      "Distinct values in area\n",
      "[nan]\n"
     ]
    }
   ],
   "source": [
    "# Define the reasonable range\n",
    "min_area = 0\n",
    "max_area= 1000000\n",
    "\n",
    "# Check if area column values are outside the reasonable range\n",
    "invalid_area = ~((df['numeric_area'] >= min_area) & \n",
    "                 (df['numeric_area'] <= max_area))\n",
    "\n",
    "# Filter the DataFrame to get rows with invalid ages\n",
    "invalid_area_df = df[invalid_area]\n",
    "\n",
    "# Get distinct values from 'Column1'\n",
    "distinct_values_area = invalid_area_df['numeric_area'].unique()\n",
    "\n",
    "# Print the distinct values\n",
    "print(\"Distinct values in area\")\n",
    "print(distinct_values_area)"
   ]
  },
  {
   "cell_type": "markdown",
   "metadata": {},
   "source": [
    "## Extract Number of Parking Spaces"
   ]
  },
  {
   "cell_type": "code",
   "execution_count": 13,
   "metadata": {},
   "outputs": [],
   "source": [
    "# Function to extract the number of parking spaces\n",
    "def extract_parking_info(parking_text):\n",
    "    \"\"\"\n",
    "    Function extracts the number of parking spaces from the provided text.\n",
    "\n",
    "    Args:\n",
    "        parking_text (str): the text from which the number of parking spaces\n",
    "                            will be extractes\n",
    "\n",
    "    Returns:\n",
    "        int: the number of parking spaces\n",
    "    \"\"\"\n",
    "    \n",
    "    if pd.notna(parking_text):\n",
    "        \n",
    "        # Extract all digits from the text using a regular expression\n",
    "        digits = ''.join(filter(str.isdigit, parking_text))\n",
    "        \n",
    "        if digits:\n",
    "            return int(digits)\n",
    "    \n",
    "    return None\n",
    "\n",
    "# Apply the function to create a new 'parking_spaces' column\n",
    "df['parking_spaces'] = df['parking'].map(extract_parking_info)"
   ]
  },
  {
   "cell_type": "markdown",
   "metadata": {},
   "source": [
    "## Validity of Number of Parking Spaces"
   ]
  },
  {
   "cell_type": "code",
   "execution_count": 14,
   "metadata": {},
   "outputs": [
    {
     "name": "stdout",
     "output_type": "stream",
     "text": [
      "Distinct values in 'parking\n",
      "[nan]\n"
     ]
    }
   ],
   "source": [
    "# Define the reasonable range\n",
    "min_parking = 0\n",
    "max_parking = 100000\n",
    "\n",
    "# Check if values in parking spaces column are outside the reasonable range\n",
    "invalid_parking = ~((df['parking_spaces'] >= min_parking) & \n",
    "                    (df['parking_spaces'] <= max_parking))\n",
    "\n",
    "# Filter the DataFrame to get rows with invalid ages\n",
    "invalid_parking_df = df[invalid_parking]\n",
    "\n",
    "# Get distinct values from 'Column1'\n",
    "distinct_values_parking = invalid_parking_df['parking_spaces'].unique()\n",
    "\n",
    "# Print the distinct values\n",
    "print(\"Distinct values in 'parking\")\n",
    "print(distinct_values_parking)"
   ]
  },
  {
   "cell_type": "markdown",
   "metadata": {},
   "source": [
    "## Preprocess Bedrooms and Bathrooms"
   ]
  },
  {
   "cell_type": "code",
   "execution_count": 15,
   "metadata": {},
   "outputs": [],
   "source": [
    "# Function to extract the number of beds and baths\n",
    "def extract_rooms_info(rooms_text):\n",
    "    \"\"\"\n",
    "    Function extracts the number of beds and baths from the provided text\n",
    "\n",
    "    Args:\n",
    "        rooms_text (str): the string from which the number of beds is to be \n",
    "                            extracted\n",
    "\n",
    "    Returns:\n",
    "        int: _description_\n",
    "    \"\"\"\n",
    "\n",
    "    rooms_info = rooms_text.split()\n",
    "    \n",
    "    # Handle cases with commas in the number\n",
    "    bedrooms_info = rooms_info[0].replace(',', '')\n",
    "    \n",
    "    # Extract the 3rd character (index 2) if there are enough elements\n",
    "    bedrooms = int(bedrooms_info[2]) \\\n",
    "        if len(bedrooms_info) > 2 and bedrooms_info[2].isdigit() else None\n",
    "\n",
    "    if len(rooms_info) > 2:\n",
    "        \n",
    "        # Handle cases with commas in the number\n",
    "        bathrooms_info = rooms_info[2].replace(',', '')\n",
    "        \n",
    "        # Extract the 3rd character (index 2) if there are enough elements\n",
    "        bathrooms = int(bathrooms_info[1]) \\\n",
    "            if len(bathrooms_info) > 1 and bathrooms_info[1].isdigit() else None\n",
    "    else:\n",
    "        bathrooms = None\n",
    "    \n",
    "    return bedrooms, bathrooms\n",
    "\n",
    "# Apply function to create 'bedrooms' and 'bathrooms' columns, skipping header\n",
    "df['bedrooms'], df['bathrooms'] = zip(*df['rooms'].map(extract_rooms_info))\n",
    "\n",
    "# Use applymap to cast numeric values to int, preserving None and NaN values\n",
    "df = df.applymap(lambda x: int(x) \\\n",
    "    if pd.notna(x) and isinstance(x, (int, float)) else x)"
   ]
  },
  {
   "cell_type": "markdown",
   "metadata": {},
   "source": [
    "## Validity of Bedrooms and Bathrooms Columns"
   ]
  },
  {
   "cell_type": "code",
   "execution_count": 16,
   "metadata": {},
   "outputs": [
    {
     "name": "stdout",
     "output_type": "stream",
     "text": [
      "Distinct values in 'bedrooms\n",
      "[nan]\n",
      "Distinct values in 'bathrooms\n",
      "[nan]\n"
     ]
    }
   ],
   "source": [
    "# Define the reasonable range\n",
    "min_room = 0\n",
    "max_room = 100\n",
    "\n",
    "# Check if the bedrooms/bathroom column values are outside the reasonable range\n",
    "invalid_bedrooms = ~((df['bedrooms'] >= min_room) & \n",
    "                     (df['bedrooms'] <= max_room))\n",
    "invalid_bathrooms = ~((df['bathrooms'] >= min_room) & \n",
    "                      (df['bathrooms'] <= max_room))\n",
    "\n",
    "# Filter the DataFrame to get rows with invalid ages\n",
    "invalid_bedrooms_df = df[invalid_bedrooms]\n",
    "invalid_bathrooms_df = df[invalid_bathrooms]\n",
    "\n",
    "# Get distinct values from invalid entries\n",
    "distinct_values_bedrooms = invalid_bedrooms_df['bedrooms'].unique()\n",
    "distinct_values_bathrooms = invalid_bathrooms_df['bathrooms'].unique()\n",
    "\n",
    "# Print the distinct values\n",
    "print(\"Distinct values in 'bedrooms\")\n",
    "print(distinct_values_bedrooms)\n",
    "print(\"Distinct values in 'bathrooms\")\n",
    "print(distinct_values_bathrooms)"
   ]
  },
  {
   "cell_type": "code",
   "execution_count": 17,
   "metadata": {},
   "outputs": [
    {
     "data": {
      "text/plain": [
       "listing_link         12227\n",
       "address              12227\n",
       "cost_text            12227\n",
       "coordinates          12227\n",
       "rooms                12227\n",
       "parking              12227\n",
       "property_type        12117\n",
       "desc                 12226\n",
       "property_features    12227\n",
       "internal_area          274\n",
       "land_area              698\n",
       "price_per_year           5\n",
       "price_per_month        608\n",
       "price_per_week       11206\n",
       "numeric_area           274\n",
       "postcode             12227\n",
       "parking_spaces       10139\n",
       "bedrooms             12194\n",
       "bathrooms            12194\n",
       "dtype: int64"
      ]
     },
     "execution_count": 17,
     "metadata": {},
     "output_type": "execute_result"
    }
   ],
   "source": [
    "# Reorder Columns \n",
    "df.count()"
   ]
  },
  {
   "cell_type": "code",
   "execution_count": 18,
   "metadata": {},
   "outputs": [],
   "source": [
    "# Save the DataFrame to a CSV file\n",
    "save_file_path = f'{RAW_DATA_DIR}/raw_real_estate_data.csv'\n",
    "df.to_csv(save_file_path, index=False)"
   ]
  }
 ],
 "metadata": {
  "kernelspec": {
   "display_name": "Python 3 (ipykernel)",
   "language": "python",
   "name": "python3"
  },
  "language_info": {
   "codemirror_mode": {
    "name": "ipython",
    "version": 3
   },
   "file_extension": ".py",
   "mimetype": "text/x-python",
   "name": "python",
   "nbconvert_exporter": "python",
   "pygments_lexer": "ipython3",
   "version": "3.9.15"
  }
 },
 "nbformat": 4,
 "nbformat_minor": 2
}
