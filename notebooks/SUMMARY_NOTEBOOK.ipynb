{
 "cells": [
  {
   "cell_type": "markdown",
   "metadata": {},
   "source": [
    "# MAST30034 Applied Data Science- Real Estate Consulting Project Group 40\n",
    "### Overview \n",
    "This investigation aims to identify significant driving factors behind rental property prices in Victoria, as well as notable suburbs which are predicted to experience the most growth within the next few years, and those which are the most liveable. We present our findings to both prospective renters and investors, in the hope that they may make informed decisions before entering the market.\n",
    "\n",
    "This summary notebook outlines the strategy taken - different avenues of information we explored- and our main findings, as well as the assumptions and limitations of this project. \n",
    "\n",
    "### Contents \n",
    "Warning: The anchor link might not work properly on Github\n",
    "1. [Data](#data)\n",
    "2. [Assumptions/Limitations](#assumptions-limitations)\n",
    "3. [Data pipeline](#pipeline)\n",
    "4. [Driving features](#q1)\n",
    "5. [Highest Growth Suburbs](#q2)\n",
    "    * [Market Overview](#market)\n",
    "    * [Approach](#approach)\n",
    "    * [Results](#results)\n",
    "6. [Most liveable and Affordable Suburbs](#q3)\n",
    "7. [Challenges](#challenges)\n",
    "9. [Future exploration](#future)\n",
    "9. [Conclusion](#conclusion)\n"
   ]
  },
  {
   "cell_type": "markdown",
   "metadata": {},
   "source": [
    "### 1. Data <a name=\"data\"></a>\n",
    "This project was centered around data sourced from domain.com.au, with observations of each rental property listing including advertised prices and property details such as number of bedrooms, address, property type and coordinate location. We first scraped 12,000 property listings from the site, however found this an insufficient amount to properly address the task of predicting future suburb growth. An API was thus used to obtain a larger dataset of approximately 1 million rows.\n",
    "\n",
    "The first few weeks of the project were spent exploring potential sources of publicly available data:\n",
    "* ABS Census Data:\n",
    "    * Population Estimates by postcode and SA2 and above\n",
    "    * Income Summary statistics by geography \n",
    "* Liveability indicator data:\n",
    "    * Crime rates by LGA \n",
    "    * Hospital locations \n",
    "    * School locations \n",
    "    * Public transport data(train, tram and bus stop locations)\n",
    "    * Property Boundaries- used to calculate property area. \n",
    "    * Open space dataset\n",
    "* Datasets regarding statistical area boundaries( eg. SA2s, LGAs, suburbs, postcodes) and their conversion:\n",
    "    * Postcode to suburb conversions- scraped from the Australia Post website  \n",
    "    * postcode_mapping.csv - postcode to sa2?\n",
    "    * sa2_mapping.csv - sa2 to sa3s\n",
    "    * Digital boundary\n"
   ]
  },
  {
   "cell_type": "markdown",
   "metadata": {},
   "source": [
    "### <a id=\"assumptions-limitations\"></a> 2. Assumptions & Limitations \n",
    "Due to time constraints and project feasibility, the following assumptions were made:\n",
    "* Domain property data was an accurate representation of the general Victorian rental market:\n",
    "    * Advertised prices were the prices that properties ended up being leased for\n",
    "    * Statistical independence (observations are not dependent of each other)\n",
    "* The effects of COVID-19 on the Victorian rental market were abided.\n",
    "\n",
    "Other considerations that were not explored due to time constraints or lack of available data:\n",
    "* Age/condition/amenities of property \n",
    "* Types of occupants (eg. families, subletters) -  if used as a sharehouse, dining/living/sun rooms may have been used as bedrooms of occupants- therefore the total number of rooms may have been a relevant factor\n",
    "* Other resident demographic factors(eg. age, ethnicity)\n",
    "* Projected future number of dwellings  \n",
    "* Proximity to natural attractions (eg. beaches, lakes)\n",
    "* Number of jobs in suburb/neighbouring suburbs\n",
    "* Using Manhattan distance instead of openrouteservice distance for the distance to CBD due to lack of computing power. "
   ]
  },
  {
   "cell_type": "markdown",
   "metadata": {},
   "source": [
    "### <a id=\"pipeline\"></a> 3. Data Pipeline\n",
    "Our data pipeline consists of these following steps:\n",
    "* __Collection__: \n",
    "    - Scraped and collected the data from domain.com.au. Collected ~__1,000,000 records__ in total, which is __50 times bigger__ than the average of other team's dataset \n",
    "    - Generated a list of urls to visit and iterated through all the rental pages of all postcodes in domain, \n",
    "    - <ins> *Extensibility* </ins>: Accounting for minor technicalities such as the \"read more\" button appearing a few seconds later, and if the properties were not for sale then were skipped.\n",
    "* __Outlier detection__: \n",
    "    - Outliers were handled by first conducting a prior analysis on the distribution of rental prices, looking at the IQR, taking the top and bottom 2.5% (accumulatively 5%)\n",
    "    - <ins>*Web verification*</ins>:  double check the price on the web to make sure the data was retrieved without error and data is not incorrectly lost.\n",
    "* __Partition__: \n",
    "    - A stratified 80:20 split based on postcode was conducted, which ensures a good representation of the population. \n",
    "    - Partitioning also helped with avoiding *information leak* by limiting the amount of sensitive information exposed at one time, which also keeps the training process unbiased and achieves the *privacy requirement*.\n",
    "* __Imputation__: \n",
    "    - Impute missing values based on the nearest neighbor. An apartment with missing values of bedroom will be imputed with the mode of bedrooms of all apartments within that suburb and similar records for other features such as the number of bedrooms and parking space.\n",
    "    - <ins> *Extensibility* </ins>: Adopt for future extension for any random testing and validation set using the pipeline trained on training set. Simply call `fill_missing_values(validation_set, reference = train_set)`\n",
    "* __Modelling__:\n",
    "    - 2 machine learning methods are implemented and benchmarked: LASSO and LightGBM Regression\n",
    "    - Similar to XGBoost and Random Forest, LightGBM is a gradient boosting algorithm which, similar to XGBoost and Random Forests, uses decision trees as its base learners but it grows trees leaf-wise, meaning it grows the tree by expanding with the maximum delta loss. It is widely used in many winning ML competitions. \n",
    "    - LightGBM __outperforms__ LASSO in all 3 metrics we used: MAPE (Mean Absolute Error), MSE (Mean Squared Error), MAE (Mean Absolute Error), which is partially because LASSO regression is not capable of learning the complex underlying relationship between features and response. \n",
    "    - LightGBM will be used as the only model to answer the 3 questions given its strong performance\n",
    "    \n",
    "\n",
    "<table style=\"margin: 0 auto;\">\n",
    "    <caption>Benchmarking LightGBM and LASSO</caption>\n",
    "    <thead>\n",
    "        <tr>\n",
    "        <td>Model</td>\n",
    "        <td>LASSO</td>\n",
    "        <th>LightGBM</th>\n",
    "        </tr>\n",
    "    </thead>\n",
    "    <tbody>\n",
    "        <tr>\n",
    "        <td>MAE</td>\n",
    "        <td>138.75</td>\n",
    "        <th>91.43</th>\n",
    "        </tr>\n",
    "        <tr>\n",
    "        <td>MSE</td>\n",
    "        <td>91259.14</td>\n",
    "        <th>52674.26</th>\n",
    "        </tr>\n",
    "        <tr>\n",
    "        <td>MAPE</td>\n",
    "        <td>0.2306</td>\n",
    "        <th>0.1435</th>\n",
    "        </tr>\n",
    "    </tbody>\n",
    "    </table>\n"
   ]
  },
  {
   "cell_type": "markdown",
   "metadata": {},
   "source": [
    "### <a id=\"q1\"></a> Q1: Finding the most significant features in predicting rental prices"
   ]
  },
  {
   "cell_type": "markdown",
   "metadata": {},
   "source": [
    "We also took into account the other top features that each selection model found, and LightGBM had more intuitively sensible returns. This combined with outperforming performance in evaluation metrics makes LightGBM the primary model used for this task and later tasks"
   ]
  },
  {
   "cell_type": "markdown",
   "metadata": {},
   "source": [
    "<table><tr>\n",
    "<td> <img src=\"https://raw.githubusercontent.com/dduygaucho/PRSA/main/lasso_coef.png\" alt=\"Drawing\" style=\"width: 1000px;\"/> </td>\n",
    "<td> <img src=\"https://raw.githubusercontent.com/dduygaucho/PRSA/main/lgbm_coef.png\" alt=\"Drawing\" style=\"width: 1000px;\"/> </td>\n",
    "</tr></table>"
   ]
  },
  {
   "cell_type": "markdown",
   "metadata": {},
   "source": [
    "The top features for LightGBM are:\n",
    "- __Distance to Melbourne Central (CBD)__: closer to distane, higher price\n",
    "- __Postcode__: some postcodes are much more expensive than others: Docklands is much more expensive than Footscray\n",
    "- __Number of bedrooms__: This is positively correlated with the property area, which is a highly useful for predicting rental price\n",
    "- __Income__: Higher postcode income is postively correlated with higher rental price"
   ]
  },
  {
   "cell_type": "markdown",
   "metadata": {},
   "source": [
    "<table>\n",
    "    <tr>\n",
    "<td> <img src=\"https://raw.githubusercontent.com/dduygaucho/PRSA/main/distance.png\" alt=\"Drawing\" style=\"width: 1000px;\"/> </td>\n",
    "<td> <img src=\"https://raw.githubusercontent.com/dduygaucho/PRSA/main/bedrooms.png\" alt=\"Drawing\" style=\"width: 1000px;\"/> </td>\n",
    "    </tr> \n",
    "</table>"
   ]
  },
  {
   "cell_type": "markdown",
   "metadata": {},
   "source": [
    "### <a id=\"q2\"></a> Q2: Predicting the fastest growing suburbs \n",
    "#### <a id=\"market\"></a> 2.1 Market Overview\n",
    "\n",
    "- Real estate can be classified into many categories, but our team focuses on three major markets: townhouses, apartments, and houses. These three markets account for 98% of the total real estate market.\n",
    "\n",
    "- We believe that breaking down the market in this way will attract more clients. It makes it easier for investors to find properties that fit their budget and investment goals. For example, some investors may only have the capacity to invest in a townhouse, while others may be able to invest in a large house or even a villa.\n",
    "\n",
    "<table><tr>\n",
    "<caption>Top Suburbs for House Price Growth in 2026</caption>\n",
    "<td> <img src=\"https://raw.githubusercontent.com/dduygaucho/PRSA/main/market_overview.png\" alt=\"Drawing\"/> </td>\n",
    "</tr></table>\n",
    "\n",
    "#### <a id=\"approach\"></a> 2.2 Approach\n",
    "- Our group uses 2 separate and independent methods to find top suburbs rising in price: statistical and machine learning methods.\n",
    "##### <a id=\"q2-2-1\"></a> 2.2.1 Statistics\n",
    "- Statistical methods are based on the assumption that historical data can be used to predict future trends. In other words, if we assume that there will be no major disruptions to the market, such as the COVID-19 pandemic, then the suburbs that have experienced the highest rental price growth in the past are likely to continue to thrive and show significant price increases in the future.\n",
    "\n",
    "##### <a id=\"q2-2-2\"></a> 2.2.2 Machine Learning\n",
    "- Our strategy to predict future suburb growth was to use the aforementioned model to estimate rental prices for the next several years, given estimates of future income and population. These estimates were then compared to current prices in order to measure growth. \n",
    "\n",
    "- Regarding __modelling__, a simple linear model was trained on historical population and median income collected from 2006 to 2021 ABS Census data for each postcode. The model was then used to predict values for the next several years. These new values were then used as input to the model in Q1, in order to obtain future rent price estimates. Other features (eg. infrastructure) were regarded as static, as we were unable to obtain data regarding future planned additions.\n",
    "\n",
    "### <a id=\"results\"></a> 2.3 Results\n",
    "- Two independent sets of suburbs with the highest rental price growth were obtained using the two methods. Although the order of the suburbs is not the same, the results of the two methods for house growth are very consistent, with 7 out of 10 suburbs overlapping.\n",
    "\n",
    "- Therefore, our team recommends that investors consider buying houses in suburbs such as Docklands, Nhill, and Meeniyan and rent out these properties to tenants, as these suburbs are predicted to have the highest rental price growth in 2026. \n",
    "<table><tr>\n",
    "<caption>Top Suburbs for House Price Growth in 2026</caption>\n",
    "<td> <img src=\"https://raw.githubusercontent.com/dduygaucho/PRSA/main/paralell_house_growth.png\" alt=\"Drawing\" style=\"width: 1200px;\"/> </td>\n",
    "<td> <img src=\"https://raw.githubusercontent.com/dduygaucho/PRSA/main/lgbm_house_growth.png\" alt=\"Drawing\" style=\"width: 1200px\"/> </td>\n",
    "</tr></table>\n",
    "\n",
    "- Similarly, the same analysis was also applied to the other two property categories. The results of the two independent methods are highly consistent, which demonstrates the reliability and confidence of the results. For apartments, investors should consider investing in Portland, Heme Hill, and Sale. For townhouses, Elwood, Dandenong, and Oakleigh South are highly recommended.\n",
    "\n",
    "<table>\n",
    "  <caption>Top Suburbs for Apartment Price Growth in 2026</caption>\n",
    "  <tr>\n",
    "    <td><img src=\"https://raw.githubusercontent.com/dduygaucho/PRSA/main/paralell_apartment_growth.png\" alt=\"Drawing\" style=\"width: 1200px;\"/></td>\n",
    "    <td><img src=\"https://raw.githubusercontent.com/dduygaucho/PRSA/main/lgbm_apartment_growth.png\" alt=\"Drawing\" style=\"width: 1200px;\"/></td>\n",
    "  </tr>\n",
    "</table>\n",
    "\n",
    "<table>\n",
    "  <caption>Top Suburbs for Townhouse Price Growth in 2026</caption>\n",
    "  <tr>\n",
    "    <td><img src=\"https://github.com/dduygaucho/PRSA/blob/main/parl_townhouse_growth.png?raw=true\" alt=\"Drawing\" style=\"width: 1200px;\"/></td>\n",
    "    <td><img src=\"https://raw.githubusercontent.com/dduygaucho/PRSA/main/lgbm_townhouse_growth.png\" alt=\"Drawing\" style=\"width: 1200px;\"/></td>\n",
    "  </tr>\n",
    "</table>\n",
    "\n",
    "- Overall, our team provides investors with a quantitative solution segmented to each property market. This allows investors to choose which channel (house, townhouse, and apartment) to invest in depending on their financial budget and portfolio preferences.\n"
   ]
  },
  {
   "cell_type": "markdown",
   "metadata": {},
   "source": [
    "### <a id=\"q3\"></a> Q3: The most liveable and affordable suburbs in Victoria \n",
    "####  Measuring Liveability"
   ]
  },
  {
   "cell_type": "markdown",
   "metadata": {},
   "source": [
    "To define liveability, we drew upon the Australian Urban Observatory's method of calculating it, which are linked to the United Nations' Sustainable Development Goals. These factors include:\n",
    "* Access to healthcare and hospitals\n",
    "* Access to schools, childcares, and universities\n",
    "* Access to open and green space\n",
    "* Connectivity through public transport\n",
    "* Absence of crime\n",
    "\n",
    "Link: https://auo.org.au/portal/metadata/urban-liveability-index/\n",
    "\n",
    "All of these features were then standardised and given weightings based upon liveability impact. For example, the number of train stops has a higher weighting than the number of bus stops, given trains provide faster travel connections into the city and surrounding suburbs. Crime was also given a negative weighting, since it is an undesirable feature. Each suburb was then assigned a liveability score out of 100, with the highest ranking suburb being 100 and the lowest ranking 0. This allows us to easily compare and rank suburbs."
   ]
  },
  {
   "cell_type": "markdown",
   "metadata": {},
   "source": [
    "<table><tr>\n",
    "<td> <img src=\"https://raw.githubusercontent.com/dduygaucho/PRSA/main/top_10_liveable_suburbs_features.png\" alt=\"Drawing\"/> </td>\n",
    "</tr></table>"
   ]
  },
  {
   "cell_type": "markdown",
   "metadata": {},
   "source": [
    "A significant contributor to the high scores of Camberwell, Richmond and Cote was the number of train stops. Further, Camberwell, Richmond and Hawthorn contain a high number of tram stops. These areas offer superior public transport options, and therefore may be more suitable for students and professionals commuting into the CBD for work or university. On the other hand, suburbs containing more schools, hospitals and open space like Resevoir, Preston and Kew may be more ideal for families or retirees. \n",
    "\n",
    "#### Measuring Affordability \n",
    "Affordability was calculated in line with the Cambridge Dictionary definition of affordability: 'the state of being cheap enough for people to be able to buy'. As we know, affordability is relative; what may be considered cheap in one area could be expensive in another.\n",
    "\n",
    "Similr to the liveability calculations, we used the median income and median rent of a suburb as features, which were then standardised and weighted. Each suburb was again given a score between 0 and 100.\n",
    "\n",
    "<table><tr>\n",
    "<td> <img src=\"https://raw.githubusercontent.com/dduygaucho/PRSA/main/top_10_livable_affordable_suburbs%20_column.png\" alt=\"Drawing\" style=\"width: 1200px;\"/> </td>\n",
    "<td> <img src=\"https://github.com/dduygaucho/PRSA/blob/main/top_10_livable_affordable_suburbs%20_scatter.png?raw=true\" alt=\"Drawing\" style=\"width: 1200px\"/> </td>\n",
    "</tr></table>"
   ]
  },
  {
   "cell_type": "markdown",
   "metadata": {},
   "source": [
    "Camberwell, Resevoir and Hawthorn indicated significantly greater liveability as compared to affordability. This indicates that although the suburbs may offer greater convenience and superior amenities, they are less affordable for their residents. Renters in these areas may be less tolerant of further rent increases. In contrast, Hawthorn, Essendon and Footscray display greater affordability than liveability - while they are more affordable, their liveability score is still relatively high, and this may suggest undervaluation of rental properties. \n"
   ]
  },
  {
   "cell_type": "markdown",
   "metadata": {},
   "source": [
    "### <a id=\"challenges\"></a> 7. Challenges \n",
    "A major obstacle was that the data by area needed to be converted to suburb in order to address questions 2 and 3 . External datasets also came in different __granularities__ so conversion between the 3 types (postcode, suburb, sa2) were needed, and transformations were not always 1-to-1.\n",
    "\n",
    "Additionally, domain listings tended to have __inconsistent/missing data__, which required preprocessing. Addresses did not have consistent formatting- missing street numbers, misspelled street names, street type abbreviations and incorrect postcodes were a prevalent issue. These were dealt with using regex and a list of possible suburb names. Rent price was mixed up when sometimes price_per_week, price_per_month, price_per_year\n",
    "\n",
    "While some property listings did provide __internal and land area data__, this was missing from most. We attempted to impute these values with estimations for each property, which had to me matched to listings by address. Property boundary data was accurate for determining land area of houses, and apartment area was estimated by dividing the total land area by number of apartments on the floor of that apartment. The latter proved to be not accurate enough- likely because it did could not account for the space taken up by hallways, elevators and gardens. As such, these values were insufficient to be used in the final model. "
   ]
  },
  {
   "cell_type": "markdown",
   "metadata": {},
   "source": [
    "### <a id=\"future\"></a> 8. Future exploration\n",
    "- Other Features: Consider other factors such as property area (in progress under `notebooks/supporting_notebooks/merging_area_data.ipynb`), expected future dwellings, expected net immigration, interests rates, gov. incentives \n",
    "- Granularity: Instead of using affordability based on average income, divide population into different categories by income, then determine affordability for each of these groups \n",
    "- Model Choice: Deep Learning Time Series forecasting: Transformer-based models (eg. Autoformer, N-BEATS). This will require much more massive data as the number of years coverd up to date is 6 years only.\n",
    "\n",
    "### <a id=\"conclusion\"></a> 9. Conclusion \n",
    "This project allowed us to gain a more nuanced understanding of the Victorian rental property market. \n",
    "We found that indicators such as distance to the __CBD, postcode, income and number of bedrooms__ were the most significant driving factors behind rental prices. \n",
    "\n",
    "Additionally, we identified the fastest growing suburbs for each property type and investors should invest into these suburbs (refer to Q2 for more) and rent out to tenants because these suburbs will rise most in the future. On the other hand, if you are tenants/renters, avoid these suburbs because the expected increase in rental price is higher compared to other suburbs. \n",
    "* House: Docklands, Nhill, Meeniyan​, ... \n",
    "* Apartment: Portland, Sale, Heme Hill, ...\n",
    "* Townhouse: Elwood, Dandenong, Oakleigh South, ...\n",
    "\n",
    "House is the market with most growth while apartment is the one that is the most stable among the 3 markets in 2026.\n",
    "\n",
    "Following our analysis of __liveability and affordability__, our recommendations for investors are as follows: \n",
    "* Rental prices in Hawthorn, Essendon and Footscray should be revised and brought in line with current market conditions.​ \n",
    "* Camberwell and Reservoir rent should not be lifted, at risk of renters looking elsewhere. \n"
   ]
  }
 ],
 "metadata": {
  "kernelspec": {
   "display_name": "Python 3 (ipykernel)",
   "language": "python",
   "name": "python3"
  },
  "language_info": {
   "codemirror_mode": {
    "name": "ipython",
    "version": 3
   },
   "file_extension": ".py",
   "mimetype": "text/x-python",
   "name": "python",
   "nbconvert_exporter": "python",
   "pygments_lexer": "ipython3",
   "version": "3.9.15"
  }
 },
 "nbformat": 4,
 "nbformat_minor": 2
}
